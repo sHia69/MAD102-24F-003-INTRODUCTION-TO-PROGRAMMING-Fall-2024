{
 "cells": [
  {
   "cell_type": "markdown",
   "id": "question-1",
   "metadata": {},
   "source": [
    "### Question 1\n",
    "You want to intialize the value of Pi in your program(The value of pi is approximately 3.14, or 22/7). \n",
    "\n",
    "This is a valid statment to declare value of Pi in Python\n",
    "```python\n",
    "piValue = '3.14'\n",
    "```\n",
    "- **Selected Answer:** False\n",
    "- **Correct Answer:** False"
   ]
  },
  {
   "cell_type": "markdown",
   "id": "question-2",
   "metadata": {},
   "source": [
    "### Question 2\n",
    "This is a valid and correctly named variable in Python\n",
    "```python\n",
    "some number = 1.5\n",
    "```\n",
    "- **Selected Answer:** False\n",
    "- **Correct Answer:** False"
   ]
  },
  {
   "cell_type": "markdown",
   "id": "question-3",
   "metadata": {},
   "source": [
    "### Question 3\n",
    "ROM is the temporary storage place for instructions and data while the computer is running and this data will be erased when the computer is shut down.\n",
    "- **Selected Answer:** False\n",
    "- **Correct Answer:** False"
   ]
  },
  {
   "cell_type": "markdown",
   "id": "question-4",
   "metadata": {},
   "source": [
    "### Question 4\n",
    "This is a valid and correctly named variable in Python\n",
    "```python\n",
    "1stName = 'Andy'\n",
    "```\n",
    "- **Selected Answer:** False\n",
    "- **Correct Answer:** False"
   ]
  },
  {
   "cell_type": "markdown",
   "id": "question-5",
   "metadata": {},
   "source": [
    "### Question 5\n",
    "What would be the result of this code:\n",
    "```python\n",
    "25 % 3\n",
    "```\n",
    "- **Selected Answer:** 2\n",
    "- **Correct Answer:** 1"
   ]
  },
  {
   "cell_type": "markdown",
   "id": "question-6",
   "metadata": {},
   "source": [
    "### Question 6\n",
    "What would be the outcome of this code:\n",
    "```python\n",
    "3 // 2\n",
    "```\n",
    "- **Selected Answer:** 1\n",
    "- **Correct Answer:**  1"
   ]
  },
  {
   "cell_type": "markdown",
   "id": "question-7",
   "metadata": {},
   "source": [
    "### Question 7\n",
    "This is the assignment operator\n",
    "- **Selected Answer:** =\n",
    "- **Correct Answer:** ="
   ]
  },
  {
   "cell_type": "markdown",
   "id": "question-8",
   "metadata": {},
   "source": [
    "### Question 8\n",
    "What would be the result of this calculation:\n",
    "```python\n",
    "3 ** 2\n",
    "```\n",
    "- **Selected Answer:**  9\n",
    "- **Correct Answer:**  9"
   ]
  },
  {
   "cell_type": "markdown",
   "id": "question-9",
   "metadata": {},
   "source": [
    "### Question 9\n",
    "This is properly commented code in Python\n",
    "- **Selected Answer:** # This is commented code\n",
    "- **Correct Answer:** # This is commented code"
   ]
  },
  {
   "cell_type": "markdown",
   "id": "question-10",
   "metadata": {},
   "source": [
    "### Question 10\n",
    "This type of error is caused by a violation of programming language rules\n",
    "- **Selected Answer:** Syntax Error\n",
    "- **Correct Answer:** Syntax Error"
   ]
  }
 ],
 "metadata": {
  "kernelspec": {
   "display_name": "Python 3",
   "language": "python",
   "name": "python3"
  },
  "language_info": {
   "codemirror_mode": {
    "name": "ipython",
    "version": 3
   },
   "file_extension": ".py",
   "mimetype": "text/x-python",
   "name": "python",
   "nbconvert_exporter": "python",
   "pygments_lexer": "ipython3",
   "version": "3.8.5"
  }
 },
 "nbformat": 4,
 "nbformat_minor": 5
}
