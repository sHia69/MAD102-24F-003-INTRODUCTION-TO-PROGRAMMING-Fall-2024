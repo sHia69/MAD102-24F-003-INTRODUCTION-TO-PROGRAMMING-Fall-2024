{
 "cells": [
  {
   "cell_type": "markdown",
   "id": "question-1",
   "metadata": {},
   "source": [
    "### Question 1\n",
    "This is a special keyword that indicates no value. A function with no return statement, or a return statement with no following expression returns this value.\n",
    "- **Selected Answer:** Correct None\n",
    "- **Correct Answer:** Correct None"
   ]
  },
  {
   "cell_type": "markdown",
   "id": "question-2",
   "metadata": {},
   "source": [
    "### Question 2\n",
    "This is a function input that is specified in a function definition. It is like a variable definition. Upon return, this can no longer be used.\n",
    "- **Selected Answer:** Correct Parameter\n",
    "- **Correct Answer:** Correct Parameter"
   ]
  },
  {
   "cell_type": "markdown",
   "id": "question-3",
   "metadata": {},
   "source": [
    "### Question 3\n",
    "This represents the value provided to a function's parameter during a function call.\n",
    "- **Selected Answer:** Correct Argument\n",
    "- **Correct Answer:** Correct Argument"
   ]
  },
  {
   "cell_type": "markdown",
   "id": "question-4",
   "metadata": {},
   "source": [
    "### Question 4\n",
    "____ is the process of dividing a program into separate modules that can be developed and tested separately and integrated into a single program.\n",
    "- **Selected Answer:** Correct Modularization\n",
    "- **Correct Answer:** Correct Modularization"
   ]
  },
  {
   "cell_type": "markdown",
   "id": "question-5",
   "metadata": {},
   "source": [
    "### Question 5\n",
    "Variables that are declared inside of a function have ______, which means they can not be accessed outside the function's body.\n",
    "- **Selected Answer:** Correct Local Scope\n",
    "- **Correct Answer:** Correct Local Scope"
   ]
  },
  {
   "cell_type": "markdown",
   "id": "question-6",
   "metadata": {},
   "source": [
    "### Question 6\n",
    "Cohesion is the degree to which all statements and variables relate to one purpose. In programming, the lower the cohesion the better.\n",
    "- **Selected Answer:** Incorrect\n",
    "- **Correct Answer:** Incorrect"
   ]
  },
  {
   "cell_type": "markdown",
   "id": "question-7",
   "metadata": {},
   "source": [
    "### Question 7\n",
    "If a function relies on a global variable in order for it to properly work, this is an example of highly coupled code. As a programmer you want to avoid this scenario as much as possible.\n",
    "- **Selected Answer:** Correct\n",
    "- **Correct Answer:** Correct"
   ]
  },
  {
   "cell_type": "markdown",
   "id": "question-8",
   "metadata": {},
   "source": [
    "### Question 8\n",
    "When we create a function and then use it, we are calling the function.\n",
    "- **Selected Answer:** Correct\n",
    "- **Correct Answer:** Correct"
   ]
  },
  {
   "cell_type": "markdown",
   "id": "question-9",
   "metadata": {},
   "source": [
    "### Question 9\n",
    "In the example code below:\n",
    "```python\n",
    "def print_name_and_age(name, age):\n",
    "    print(f'Hello {name}- you are {age} yrs old.')\n",
    "\n",
    "print_name_and_age(1, 'Bob')\n",
    "```\n",
    "The result of this code would best be described as.\n",
    "- **Selected Answer:** Incorrect\n",
    "- **Correct Answer:** Incorrect\n",
    "The code will raise a TypeError because the arguments are passed in the wrong order."
   ]
  },
  {
   "cell_type": "markdown",
   "id": "question-10",
   "metadata": {},
   "source": [
    "### Question 10\n",
    "What will be the output of the following Python code?\n",
    "```python\n",
    "x = 'xyz'\n",
    "for i in range(len(x)):\n",
    "    print(i)\n",
    "```\n",
    "- **Selected Answer:** Correct 0 1 2\n",
    "- **Correct Answer:** Correct 0 1 2"
   ]
  }
 ],
 "metadata": {
  "kernelspec": {
   "display_name": "Python 3",
   "language": "python",
   "name": "python3"
  },
  "language_info": {
   "codemirror_mode": {
    "name": "ipython",
    "version": 3
   },
   "file_extension": ".py",
   "mimetype": "text/x-python",
   "name": "python",
   "nbconvert_exporter": "python",
   "pygments_lexer": "ipython3",
   "version": "3.8.5"
  }
 },
 "nbformat": 4,
 "nbformat_minor": 5
}
