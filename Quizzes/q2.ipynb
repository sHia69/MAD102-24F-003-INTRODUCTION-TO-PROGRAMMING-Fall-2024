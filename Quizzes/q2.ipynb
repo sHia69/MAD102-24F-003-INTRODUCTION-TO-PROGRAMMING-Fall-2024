{
 "cells": [
  {
   "cell_type": "markdown",
   "metadata": {},
   "source": [
    "# Python Quiz 2 Notes\n",
    "\n",
    "## Question 1\n",
    "- **Topic**: List Manipulation\n",
    "- **Concept**: Deleting elements from a list using slicing.\n",
    "- **Example**: `del sampleList[0:6]` removes elements from index 0 to 5.\n",
    "\n",
    "## Question 2\n",
    "- **Topic**: Variable Declaration\n",
    "- **Concept**: Correct syntax for variable assignment.\n",
    "- **Note**: Ensure proper spacing and syntax when declaring multiple variables.\n",
    "\n",
    "## Question 3\n",
    "- **Topic**: String Manipulation\n",
    "- **Concept**: Using `join()` method to concatenate list elements with a separator.\n",
    "- **Example**: `\"-\".join(my_list)` results in `Hello-Python`.\n",
    "\n",
    "## Question 4\n",
    "- **Topic**: Operator Precedence\n",
    "- **Concept**: Understanding the precedence level of operators.\n",
    "- **Example**: Division and multiplication have the same precedence level.\n",
    "\n",
    "## Question 5\n",
    "- **Topic**: Data Types\n",
    "- **Concept**: Mutability of lists in Python.\n",
    "- **Note**: Lists are mutable, meaning their elements can be changed.\n",
    "\n",
    "## Question 6\n",
    "- **Topic**: Operators\n",
    "- **Concept**: Using the power operator.\n",
    "- **Example**: `a ** b` represents `a` raised to the power of `b`.\n",
    "\n",
    "## Question 7\n",
    "- **Topic**: File Extensions\n",
    "- **Concept**: Correct file extension for Python files.\n",
    "- **Example**: `.py` is the standard extension for Python files.\n",
    "\n",
    "## Question 8\n",
    "- **Topic**: Variable Naming\n",
    "- **Concept**: Valid and invalid variable names.\n",
    "- **Note**: Variable names should not start with special characters like `$`.\n",
    "\n",
    "## Question 9\n",
    "- **Topic**: Comments\n",
    "- **Concept**: Syntax for single-line comments in Python.\n",
    "- **Example**: `#` is used to start a single-line comment."
   ]
  }
 ],
 "metadata": {
  "kernelspec": {
   "display_name": "Python 3",
   "language": "python",
   "name": "python3"
  },
  "language_info": {
   "name": "python",
   "version": "3.11.9"
  }
 },
 "nbformat": 4,
 "nbformat_minor": 2
}
