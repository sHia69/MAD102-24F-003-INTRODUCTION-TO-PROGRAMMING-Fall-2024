{
 "cells": [
  {
   "cell_type": "markdown",
   "metadata": {},
   "source": [
    "# Exam 3 Notes\n",
    "\n",
    "1. Which one of the following is the correct extension of the Python file? `.py` <br>\n",
    "2. What would be the outcome of this code: `3 // 2` -> `1` <br>\n",
    "3. When using the find method, when a substring is not found in the string being checked, the method returns `-1`. <br>\n",
    "4. What would be output in the console from this code? <br>\n",
    "```py\n",
    "print(\"Hello\", end='')\n",
    "print(\" World!\")\n",
    "```\n",
    "\n",
    "`Hello World`<br>\n",
    "5. Which of the following operators is the correct option for power(ab)? `a**b`<br>\n",
    "6. What would be the result of this calculation: `3 ** 2` -> 9<br>\n",
    "7. What would be displayed in the console for this code?<br>\n",
    "```py\n",
    "word1 = 'This'\n",
    "word2 = 'is'\n",
    "word3 = 'amazing!'\n",
    "\n",
    "print(word1 + word2 + word3)\n",
    "```\n",
    "`Thisisamazing!`\n",
    "\n",
    "8. Which of the following will print the pi value defined in math module? \n",
    "```py\n",
    "from math import pi\n",
    "print(pi)\n",
    "```\n",
    "9. Which one of the following has the same precedence level? `division and multiplication`\n",
    "10. What would be printed in the console for this code:\n",
    "```py\n",
    "word = 'this is weird'\n",
    "print(word[-5:])\n",
    "```\n",
    "`weird`"
   ]
  }
 ],
 "metadata": {
  "language_info": {
   "name": "python"
  }
 },
 "nbformat": 4,
 "nbformat_minor": 2
}
