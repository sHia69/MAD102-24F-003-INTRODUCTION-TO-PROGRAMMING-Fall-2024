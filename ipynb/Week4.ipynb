{
 "cells": [
  {
   "cell_type": "markdown",
   "metadata": {},
   "source": [
    "# While Loops"
   ]
  },
  {
   "cell_type": "code",
   "execution_count": 3,
   "metadata": {},
   "outputs": [
    {
     "name": "stdout",
     "output_type": "stream",
     "text": [
      "loop executed\n",
      "Lteration:1\n",
      "loop finished\n"
     ]
    }
   ],
   "source": [
    "loop_variable =1\n",
    "while loop_variable <= 3:\n",
    "  print(\"loop executed\")\n",
    "  print(f\"Lteration:{loop_variable}\")\n",
    "  loop_variable = loop_variable +3\n",
    "\n",
    "print(\"loop finished\")"
   ]
  },
  {
   "cell_type": "markdown",
   "metadata": {},
   "source": [
    "## For Loops"
   ]
  },
  {
   "cell_type": "code",
   "execution_count": 4,
   "metadata": {},
   "outputs": [
    {
     "data": {
      "text/plain": [
       "'Apple'"
      ]
     },
     "execution_count": 4,
     "metadata": {},
     "output_type": "execute_result"
    }
   ],
   "source": [
    "list_strings = ['Apple', 'Pear', 'Mangnes']\n",
    "list_strings [0]"
   ]
  },
  {
   "cell_type": "code",
   "execution_count": 5,
   "metadata": {},
   "outputs": [
    {
     "name": "stdout",
     "output_type": "stream",
     "text": [
      "Apple\n",
      "Pear\n",
      "Mangnes\n"
     ]
    }
   ],
   "source": [
    "for string in list_strings:\n",
    "  print(string)"
   ]
  },
  {
   "cell_type": "code",
   "execution_count": 6,
   "metadata": {},
   "outputs": [
    {
     "name": "stdout",
     "output_type": "stream",
     "text": [
      "0\n",
      "1\n",
      "2\n",
      "3\n",
      "4\n"
     ]
    }
   ],
   "source": [
    "for i in range(5):\n",
    "  print(i)"
   ]
  },
  {
   "cell_type": "code",
   "execution_count": 7,
   "metadata": {},
   "outputs": [
    {
     "name": "stdout",
     "output_type": "stream",
     "text": [
      "15\n",
      "12\n",
      "9\n",
      "6\n"
     ]
    }
   ],
   "source": [
    "for i in range(15, 5,-3):\n",
    "  print(i)"
   ]
  },
  {
   "cell_type": "markdown",
   "metadata": {},
   "source": [
    "## Ranges"
   ]
  },
  {
   "cell_type": "code",
   "execution_count": null,
   "metadata": {},
   "outputs": [],
   "source": [
    "initak_savings = 200\n",
    "interest_rate = 0.05\n",
    "\n",
    "\n",
    "years = int(input('Enter years: '))\n",
    "print()\n",
    "\n",
    "savings = initak_savings\n",
    "for i in range(years):\n",
    "  print(f'Savings in year {i}: ${savings:.2f}$')\n",
    "  savings = savings + (savings*interest_rate)\n",
    "\n",
    "print('\\n')  "
   ]
  },
  {
   "cell_type": "markdown",
   "metadata": {},
   "source": [
    "## Nested Loops"
   ]
  },
  {
   "cell_type": "code",
   "execution_count": null,
   "metadata": {},
   "outputs": [],
   "source": [
    "for hours in range(1):\n",
    "  for minutes in range(60):\n",
    "    for seconds in range(60):\n",
    "      print(f'{hours}:{minutes}:{seconds}')"
   ]
  },
  {
   "cell_type": "markdown",
   "metadata": {},
   "source": [
    "## Break Statment"
   ]
  },
  {
   "cell_type": "code",
   "execution_count": null,
   "metadata": {},
   "outputs": [],
   "source": [
    "for number in range(1, 101):\n",
    "  if number % 2 ==1:\n",
    "    break # Break stops the code from completing its task\n",
    "  print('This will never run')"
   ]
  },
  {
   "cell_type": "markdown",
   "metadata": {},
   "source": [
    "\n",
    "1.   The break statement is used to immediately exit a loop\n",
    "2.   If I want to display the numbers from 1 – 100 that are even, I could use this code."
   ]
  },
  {
   "cell_type": "markdown",
   "metadata": {},
   "source": [
    "## Continue"
   ]
  },
  {
   "cell_type": "code",
   "execution_count": 9,
   "metadata": {},
   "outputs": [
    {
     "name": "stdout",
     "output_type": "stream",
     "text": [
      "1 is an even number\n",
      "2 is an even number\n",
      "3 is an even number\n",
      "4 is an even number\n",
      "6 is an even number\n",
      "7 is an even number\n",
      "8 is an even number\n",
      "9 is an even number\n",
      "10 is an even number\n",
      "11 is an even number\n",
      "12 is an even number\n",
      "13 is an even number\n",
      "14 is an even number\n",
      "15 is an even number\n",
      "16 is an even number\n",
      "17 is an even number\n",
      "18 is an even number\n",
      "19 is an even number\n",
      "20 is an even number\n",
      "21 is an even number\n",
      "22 is an even number\n",
      "23 is an even number\n",
      "24 is an even number\n",
      "25 is an even number\n",
      "26 is an even number\n",
      "27 is an even number\n",
      "28 is an even number\n",
      "29 is an even number\n",
      "30 is an even number\n",
      "31 is an even number\n",
      "32 is an even number\n",
      "33 is an even number\n",
      "34 is an even number\n",
      "35 is an even number\n",
      "36 is an even number\n",
      "37 is an even number\n",
      "38 is an even number\n",
      "39 is an even number\n",
      "40 is an even number\n",
      "41 is an even number\n",
      "42 is an even number\n",
      "43 is an even number\n",
      "44 is an even number\n",
      "45 is an even number\n",
      "46 is an even number\n",
      "47 is an even number\n",
      "48 is an even number\n",
      "49 is an even number\n",
      "50 is an even number\n",
      "51 is an even number\n",
      "52 is an even number\n",
      "53 is an even number\n",
      "54 is an even number\n",
      "55 is an even number\n",
      "56 is an even number\n",
      "57 is an even number\n",
      "58 is an even number\n",
      "59 is an even number\n",
      "60 is an even number\n",
      "61 is an even number\n",
      "62 is an even number\n",
      "63 is an even number\n",
      "64 is an even number\n",
      "65 is an even number\n",
      "66 is an even number\n",
      "67 is an even number\n",
      "68 is an even number\n",
      "69 is an even number\n",
      "70 is an even number\n",
      "71 is an even number\n",
      "72 is an even number\n",
      "73 is an even number\n",
      "74 is an even number\n",
      "75 is an even number\n",
      "76 is an even number\n",
      "77 is an even number\n",
      "78 is an even number\n",
      "79 is an even number\n",
      "80 is an even number\n",
      "81 is an even number\n",
      "82 is an even number\n",
      "83 is an even number\n",
      "84 is an even number\n",
      "85 is an even number\n",
      "86 is an even number\n",
      "87 is an even number\n",
      "88 is an even number\n",
      "89 is an even number\n",
      "90 is an even number\n",
      "91 is an even number\n",
      "92 is an even number\n",
      "93 is an even number\n",
      "94 is an even number\n",
      "95 is an even number\n",
      "96 is an even number\n",
      "97 is an even number\n",
      "98 is an even number\n",
      "99 is an even number\n",
      "100 is an even number\n"
     ]
    }
   ],
   "source": [
    "for number in range(1, 101):\n",
    "  if number == 5:\n",
    "    continue\n",
    "  print(f'{number} is an even number')"
   ]
  },
  {
   "cell_type": "markdown",
   "metadata": {},
   "source": [
    "## Enumerate()"
   ]
  },
  {
   "cell_type": "code",
   "execution_count": 10,
   "metadata": {},
   "outputs": [
    {
     "name": "stdout",
     "output_type": "stream",
     "text": [
      "Mal is located at index 0\n",
      "Simon is located at index 1\n",
      "Zoe is located at index 2\n",
      "River is located at index 3\n"
     ]
    }
   ],
   "source": [
    "student = [\"Mal\", \"Simon\", \"Zoe\", \"River\"]\n",
    "\n",
    "for (index, student) in enumerate(student):\n",
    "  print(f'{student} is located at index {index}')"
   ]
  },
  {
   "cell_type": "markdown",
   "metadata": {},
   "source": [
    "## Exercise 1"
   ]
  },
  {
   "cell_type": "code",
   "execution_count": null,
   "metadata": {},
   "outputs": [],
   "source": [
    "user_choice_to_continue = 'Y'\n",
    "while user_choice_to_continue == 'Y':\n",
    "    num1 = int(input('Please enter your first number: '))\n",
    "    num2 = int(input('Please enter your second number: '))\n",
    "    sum_result = num1 + num2\n",
    "    print(f'The sum of {num1} + {num2} = {sum_result}')\n",
    "    user_choice_to_continue = input('Would you like to continue? Y/N: ').upper()\n",
    "    if user_choice_to_continue != 'Y' and user_choice_to_continue != 'N':\n",
    "        user_choice_to_continue = input('Invalid input. Please enter Y or N.: ')"
   ]
  },
  {
   "cell_type": "markdown",
   "metadata": {},
   "source": [
    "## Exercise 2:"
   ]
  },
  {
   "cell_type": "code",
   "execution_count": null,
   "metadata": {},
   "outputs": [],
   "source": [
    "program_continue = 'Y'\n",
    "print('Welcome to my addition program')\n",
    "print('==' * 30)\n",
    "while program_continue == 'Y':\n",
    "    while True:\n",
    "        try:\n",
    "            first_number = int(input('Please enter your first number:'))\n",
    "            break\n",
    "        except ValueError:\n",
    "            first_number = int(input('Invalid input. Please enter a valid number.'))\n",
    "    while True:\n",
    "        try:\n",
    "            second_number = int(input('Please enter your second number:'))\n",
    "            break\n",
    "        except ValueError:\n",
    "            second_number = int(input('Invalid input. Please enter a valid number.'))\n",
    "    sum_result = first_number + second_number\n",
    "    print(f'The sum of {first_number} + {second_number} = {sum_result}')\n",
    "    while True:\n",
    "        program_continue = input('Would you like to continue? Y/N:').strip().upper()\n",
    "        if program_continue in ['Y', 'N']:\n",
    "            break\n",
    "print(\"Thank you for using the addition program.\")\n",
    "\n"
   ]
  }
 ],
 "metadata": {
  "kernelspec": {
   "display_name": "Python 3",
   "language": "python",
   "name": "python3"
  },
  "language_info": {
   "codemirror_mode": {
    "name": "ipython",
    "version": 3
   },
   "file_extension": ".py",
   "mimetype": "text/x-python",
   "name": "python",
   "nbconvert_exporter": "python",
   "pygments_lexer": "ipython3",
   "version": "3.9.6"
  }
 },
 "nbformat": 4,
 "nbformat_minor": 2
}
