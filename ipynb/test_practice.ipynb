{
 "cells": [
  {
   "cell_type": "markdown",
   "metadata": {},
   "source": [
    "# Test Practice Questions"
   ]
  },
  {
   "cell_type": "markdown",
   "metadata": {},
   "source": [
    "## 1. Indentation Defines a Block of Statements\n",
    "In Python, **indentation** is used to define a block of code, replacing the need for curly braces `{}` used in other programming languages."
   ]
  },
  {
   "cell_type": "code",
   "execution_count": null,
   "metadata": {},
   "outputs": [],
   "source": [
    "# Example of indentation defining a block\n",
    "if True:\n",
    "    print(\"This is inside a block\")"
   ]
  },
  {
   "cell_type": "markdown",
   "metadata": {},
   "source": [
    "## 2. Number of Combinations Formula\n",
    "When calculating the number of combinations for conditions, use the formula `2^n` where `n` is the number of conditions."
   ]
  },
  {
   "cell_type": "code",
   "execution_count": null,
   "metadata": {},
   "outputs": [],
   "source": [
    "# Example of number of combinations\n",
    "n = 2  # number of conditions\n",
    "combinations = 2 ** n\n",
    "print(f\"Number of combinations for {n} conditions is: {combinations}\")"
   ]
  },
  {
   "cell_type": "markdown",
   "metadata": {},
   "source": [
    "## 3. Conditional (Ternary) Expression\n",
    "A **ternary conditional expression** is a concise way to express an `if-else` statement in one line."
   ]
  },
  {
   "cell_type": "code",
   "execution_count": null,
   "metadata": {},
   "outputs": [],
   "source": [
    "# Example of a ternary conditional expression\n",
    "yrsService = 32\n",
    "result = \"You cannot retire!\" if yrsService < 30 else \"Happy retirement!\"\n",
    "print(result)  # Output: Happy retirement!"
   ]
  },
  {
   "cell_type": "markdown",
   "metadata": {},
   "source": [
    "## 4. Boolean Expressions\n",
    "A **Boolean expression** evaluates to one of two values: `True` or `False`.\n"
   ]
  },
  {
   "cell_type": "code",
   "execution_count": null,
   "metadata": {},
   "outputs": [],
   "source": [
    "# Example of a Boolean expression\n",
    "age = 20\n",
    "is_adult = age >= 18\n",
    "print(is_adult)  # True"
   ]
  },
  {
   "cell_type": "markdown",
   "metadata": {},
   "source": [
    "## 5. Comparison Operators\n",
    "Valid comparison operators in Python include:\n",
    "- `!=` (not equal to)\n",
    "- `<=` (less than or equal to)\n",
    "- `==` (equal to)\n",
    "\n",
    "Note: `=>` is **not** a valid comparison operator."
   ]
  },
  {
   "cell_type": "code",
   "execution_count": null,
   "metadata": {},
   "outputs": [],
   "source": [
    "# Example of comparison operators\n",
    "x = 5\n",
    "print(x != 6)  # True\n",
    "print(x <= 6)  # True"
   ]
  },
  {
   "cell_type": "markdown",
   "metadata": {},
   "source": [
    "## 6. Object Identity with `is`\n",
    "The `is` operator checks if two variables point to the **same object in memory**."
   ]
  },
  {
   "cell_type": "code",
   "execution_count": null,
   "metadata": {},
   "outputs": [],
   "source": [
    "# Example of 'is' operator\n",
    "name = \"I am\"\n",
    "otherName = name\n",
    "print(otherName is name)  # True"
   ]
  },
  {
   "cell_type": "markdown",
   "metadata": {},
   "source": [
    "## 7. Membership Operators\n",
    "- `in`: Checks if a value is present in a sequence (like a list, tuple, or string).\n",
    "- `not in`: Checks if a value is **not** present in a sequence."
   ]
  },
  {
   "cell_type": "code",
   "execution_count": 2,
   "metadata": {},
   "outputs": [
    {
     "name": "stdout",
     "output_type": "stream",
     "text": [
      "True\n",
      "True\n"
     ]
    }
   ],
   "source": [
    "# Example of membership operators\n",
    "numbers = [1, 2, 3, 4, 5]\n",
    "num_to_check = 2\n",
    "print(num_to_check in numbers)  # True\n",
    "print(2.2 not in numbers)  # True"
   ]
  },
  {
   "cell_type": "markdown",
   "metadata": {},
   "source": [
    "## 8. Using `elif` for Alternative Conditions\n",
    "The **`elif`** keyword is used to add an alternative condition to an `if-else` structure."
   ]
  },
  {
   "cell_type": "code",
   "execution_count": 1,
   "metadata": {},
   "outputs": [
    {
     "name": "stdout",
     "output_type": "stream",
     "text": [
      "x is greater than 5 but less than or equal to 15\n"
     ]
    }
   ],
   "source": [
    "# Example of 'elif' keyword\n",
    "x = 10\n",
    "if x > 15:\n",
    "    print(\"x is greater than 15\")\n",
    "elif x > 5:\n",
    "    print(\"x is greater than 5 but less than or equal to 15\")\n",
    "else:\n",
    "    print(\"x is 5 or less\")"
   ]
  },
  {
   "cell_type": "markdown",
   "metadata": {},
   "source": [
    "# Mock Test Practice"
   ]
  },
  {
   "cell_type": "markdown",
   "metadata": {},
   "source": [
    "## Question 1\n",
    "When deciding the possible number of outcomes, the number of combinations is 3 raised to the power of the number of conditions.  For example, if there are 2 possible outcomes, there are 9 different combinations that could result.\n",
    "\n",
    "- True\n",
    "\n",
    "- False\n",
    "\n",
    "### Explanation \n",
    "`False.`\n",
    "\n",
    "If there are 2 possible outcomes for each condition, the number of combinations is calculated as (2) raised to the power of the number of conditions. For example, if there are 2 conditions, the number of combinations would be (2^2 = 4).\n",
    "\n",
    "In your example, (3^2 = 9), which would be true if there were 3 possible outcomes for each condition, not 2."
   ]
  },
  {
   "cell_type": "markdown",
   "metadata": {},
   "source": [
    "## Question 2\n",
    "Choose any one in the question below.\n",
    "\n",
    "- `A. Write a Python program to check whether a given number is an Armstrong number or not. For example, 153 is an Armstrong number because 153 = 13+53+33.`\n",
    "- `B. Write a program that takes a n number as input, stores the numbers in a list and prints the items of the list in reversed order with its index.`"
   ]
  },
  {
   "cell_type": "code",
   "execution_count": null,
   "metadata": {},
   "outputs": [],
   "source": [
    "# Question 2\n",
    "# Purpose: A. Write a python program to check whether a given number is an Armstrong number or not. For example, 153 is an Armstrong number because 153 = 1^3 + 5^3 + 3^3.\n",
    "\n",
    "# Take input from the user\n",
    "num = input(\"Enter a number: \")\n",
    "\n",
    "# Find the number of digits in the number\n",
    "num_digits = len(str(num))\n",
    "\n",
    "# Initialize the sum of powers\n",
    "sum_of_powers = 0\n",
    "\n",
    "# Make a copy of the original number\n",
    "temp = num\n",
    "\n",
    "# Calculate the sum of the digits raised to the power of num_digits\n",
    "for digit in num:\n",
    "    sum_of_powers += int(digit) ** num_digits\n",
    "    print(sum_of_powers)\n",
    "\n",
    "# Check if the sum equals the original number\n",
    "if sum_of_powers == int(num):\n",
    "    print(f\"{num} is an Armstrong number.\")\n",
    "else:\n",
    "    print(f\"{num} is not an Armstrong number.\")"
   ]
  },
  {
   "cell_type": "code",
   "execution_count": null,
   "metadata": {},
   "outputs": [],
   "source": [
    "# Question 2\n",
    "# Purpose: B. Write a program that takes a n number as input, stores the numbers in a list and prints the items of the list in reversed order with its index.\n",
    "\n",
    "# Input the number of elements\n",
    "n = int(input(\"Enter the number of elements: \"))\n",
    "\n",
    "# Input the elements and store them in a list\n",
    "numbers = []\n",
    "for i in range(n):\n",
    "    while True:\n",
    "        try:\n",
    "            num = int(input(f\"Enter number {i + 1}: \"))\n",
    "            numbers.append(num)\n",
    "            break\n",
    "        except ValueError:\n",
    "            print(\"Invalid input. Please enter an integer.\")\n",
    "\n",
    "for i in range(n):\n",
    "    print(f\"Index {i}: {numbers[-1 - i]}\")\n",
    "\n"
   ]
  }
 ],
 "metadata": {
  "kernelspec": {
   "display_name": "Python 3",
   "language": "python",
   "name": "python3"
  },
  "language_info": {
   "codemirror_mode": {
    "name": "ipython",
    "version": 3
   },
   "file_extension": ".py",
   "mimetype": "text/x-python",
   "name": "python",
   "nbconvert_exporter": "python",
   "pygments_lexer": "ipython3",
   "version": "3.12.5"
  }
 },
 "nbformat": 4,
 "nbformat_minor": 2
}
