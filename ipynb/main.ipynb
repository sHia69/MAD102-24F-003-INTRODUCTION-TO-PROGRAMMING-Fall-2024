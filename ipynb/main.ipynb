{
 "cells": [
  {
   "cell_type": "markdown",
   "metadata": {},
   "source": [
    "# Python Questions and Answers"
   ]
  },
  {
   "cell_type": "markdown",
   "metadata": {},
   "source": [
    "## Question 1\n",
    "What will be the output of the following Python code?\n",
    "```python\n",
    "a = [1, 2, 3, 4]\n",
    "b = [sum(a[0:x+1]) for x in range(0, len(a))]\n",
    "print(b)\n",
    "```\n",
    "**Answer:** `[1, 3, 6, 10]`"
   ]
  },
  {
   "cell_type": "code",
   "execution_count": 1,
   "metadata": {},
   "outputs": [
    {
     "name": "stdout",
     "output_type": "stream",
     "text": [
      "[1, 3, 6, 10]\n"
     ]
    }
   ],
   "source": [
    "a = [1, 2, 3, 4]\n",
    "b = [sum(a[0:x+1]) for x in range(0, len(a))]\n",
    "print(b)"
   ]
  },
  {
   "cell_type": "markdown",
   "metadata": {},
   "source": [
    "## Question 2\n",
    "This method removes and returns the last item in a list.\n",
    "- list.last()\n",
    "- list.removeLast()\n",
    "- list.pop()\n",
    "- list.popLast()\n",
    "\n",
    "**Answer:** `list.pop()`"
   ]
  },
  {
   "cell_type": "markdown",
   "metadata": {},
   "source": [
    "## Question 3\n",
    "This method sorts a list and returns a new list instead of modifying it in place.\n",
    "- sortedBy()\n",
    "- sorted()\n",
    "- newSort()\n",
    "- sort()\n",
    "\n",
    "**Answer:** `sorted()`"
   ]
  },
  {
   "cell_type": "markdown",
   "metadata": {},
   "source": [
    "## Question 4\n",
    "```python\n",
    "names = ['Tony', 'Bruce', 'Natasha', 'Steve']\n",
    "print(names[3:])\n",
    "```\n",
    "- Steve\n",
    "- Error - missing a value.\n",
    "- Natasha, Steve\n",
    "- Tony, Bruce, Natasha\n",
    "\n",
    "**Answer:** `['Steve']`"
   ]
  },
  {
   "cell_type": "markdown",
   "metadata": {},
   "source": [
    "## Question 5\n",
    "The count method for a list returns the number of unique items in the list - it does not count duplicates.\n",
    "- True\n",
    "- False\n",
    "\n",
    "**Answer:** False"
   ]
  },
  {
   "cell_type": "markdown",
   "metadata": {},
   "source": [
    "## Question 6\n",
    "Which one of these best describes a list:\n",
    "- An immutable container that contains a sequence of items ordered from right-to-left\n",
    "- A mutable container that contains a sequence of items ordered from left-to-right\n",
    "- An immutable container that contains items with no defined order\n",
    "- A mutable container that contains items with no defined order\n",
    "\n",
    "**Answer:** A mutable container that contains a sequence of items ordered from left-to-right"
   ]
  },
  {
   "cell_type": "markdown",
   "metadata": {},
   "source": [
    "## Question 7\n",
    "`all(list)` - this method returns True if every element in list is True (!=0), or if the list is empty.\n",
    "- True\n",
    "- False\n",
    "\n",
    "**Answer:** True"
   ]
  },
  {
   "cell_type": "markdown",
   "metadata": {},
   "source": [
    "## Question 8\n",
    "What will be the output of the following Python code?\n",
    "```python\n",
    "lst = [3, 4, 6, 1, 2]\n",
    "lst[1:2] = [7, 8]\n",
    "print(lst)\n",
    "```\n",
    "- [3, 7, 6, 1, 2]\n",
    "- [3, [7, 8], 6, 1, 2]\n",
    "- Syntax Error\n",
    "- [3, 7, 8, 6, 1, 2]\n",
    "\n",
    "**Answer:** `[3, 7, 8, 6, 1, 2]`"
   ]
  },
  {
   "cell_type": "markdown",
   "metadata": {},
   "source": [
    "## Question 9\n",
    "If I applied the title method to the string - 'This Is a Title', the resulting string returned would be\n",
    "- This Is A Title\n",
    "- THIS IS A TITLE\n",
    "- this is a title\n",
    "- This is a title\n",
    "\n",
    "**Answer:** This Is A Title"
   ]
  },
  {
   "cell_type": "markdown",
   "metadata": {},
   "source": [
    "## Question 10\n",
    "What will be the output of the following Python code?\n",
    "```python\n",
    "numbers = [1, 2, 3, 4]\n",
    "numbers.append([5, 6, 7, 8])\n",
    "print(len(numbers))\n",
    "```\n",
    "- 5\n",
    "- 6\n",
    "- 7\n",
    "- 8\n",
    "\n",
    "**Answer:** 5"
   ]
  }
 ],
 "metadata": {
  "kernelspec": {
   "display_name": ".venv",
   "language": "python",
   "name": "python3"
  },
  "language_info": {
   "codemirror_mode": {
    "name": "ipython",
    "version": 3
   },
   "file_extension": ".py",
   "mimetype": "text/x-python",
   "name": "python",
   "nbconvert_exporter": "python",
   "pygments_lexer": "ipython3",
   "version": "3.12.3"
  }
 },
 "nbformat": 4,
 "nbformat_minor": 4
}
