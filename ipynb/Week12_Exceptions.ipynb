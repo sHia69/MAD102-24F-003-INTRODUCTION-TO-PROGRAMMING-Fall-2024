{
  "cells": [
    {
      "cell_type": "markdown",
      "metadata": {
        "id": "zpEAay9sC0f5"
      },
      "source": [
        "# Week 12 - Exceptions (Class Exercise)"
      ]
    },
    {
      "cell_type": "markdown",
      "metadata": {
        "id": "EO-jT0QDCfx2"
      },
      "source": [
        "## ValueError\n",
        "### This is a valid program\n",
        "### What happens if a string value that can not be converted to an int is entered?"
      ]
    },
    {
      "cell_type": "code",
      "source": [
        "num = int(input('enter number'))\n",
        "num"
      ],
      "metadata": {
        "colab": {
          "base_uri": "https://localhost:8080/",
          "height": 176
        },
        "id": "kfd8P8nIBovK",
        "outputId": "a2c84ad1-5d68-4ad3-a74b-23f9a46740c1"
      },
      "execution_count": null,
      "outputs": [
        {
          "name": "stdout",
          "output_type": "stream",
          "text": [
            "enter numberpr\n"
          ]
        },
        {
          "output_type": "error",
          "ename": "ValueError",
          "evalue": "invalid literal for int() with base 10: 'pr'",
          "traceback": [
            "\u001b[0;31m---------------------------------------------------------------------------\u001b[0m",
            "\u001b[0;31mValueError\u001b[0m                                Traceback (most recent call last)",
            "\u001b[0;32m<ipython-input-2-edf1ba574a27>\u001b[0m in \u001b[0;36m<cell line: 1>\u001b[0;34m()\u001b[0m\n\u001b[0;32m----> 1\u001b[0;31m \u001b[0mnum\u001b[0m \u001b[0;34m=\u001b[0m \u001b[0mint\u001b[0m\u001b[0;34m(\u001b[0m\u001b[0minput\u001b[0m\u001b[0;34m(\u001b[0m\u001b[0;34m'enter number'\u001b[0m\u001b[0;34m)\u001b[0m\u001b[0;34m)\u001b[0m\u001b[0;34m\u001b[0m\u001b[0;34m\u001b[0m\u001b[0m\n\u001b[0m\u001b[1;32m      2\u001b[0m \u001b[0mnum\u001b[0m\u001b[0;34m\u001b[0m\u001b[0;34m\u001b[0m\u001b[0m\n",
            "\u001b[0;31mValueError\u001b[0m: invalid literal for int() with base 10: 'pr'"
          ]
        }
      ]
    },
    {
      "cell_type": "code",
      "execution_count": null,
      "metadata": {
        "colab": {
          "base_uri": "https://localhost:8080/",
          "height": 276
        },
        "id": "edNCEBtZnaUa",
        "outputId": "4b17f671-4cc5-49a7-8855-d06e29edd115"
      },
      "outputs": [
        {
          "name": "stdout",
          "output_type": "stream",
          "text": [
            "Please enter a number:3\n",
            "Please enter a second number:test\n"
          ]
        },
        {
          "output_type": "error",
          "ename": "ValueError",
          "evalue": "ignored",
          "traceback": [
            "\u001b[0;31m---------------------------------------------------------------------------\u001b[0m",
            "\u001b[0;31mValueError\u001b[0m                                Traceback (most recent call last)",
            "\u001b[0;32m<ipython-input-3-b69d9299b318>\u001b[0m in \u001b[0;36m<cell line: 2>\u001b[0;34m()\u001b[0m\n\u001b[1;32m      1\u001b[0m \u001b[0mnum1\u001b[0m \u001b[0;34m=\u001b[0m \u001b[0mint\u001b[0m\u001b[0;34m(\u001b[0m\u001b[0minput\u001b[0m\u001b[0;34m(\u001b[0m\u001b[0;34m'Please enter a number:'\u001b[0m\u001b[0;34m)\u001b[0m\u001b[0;34m)\u001b[0m\u001b[0;34m\u001b[0m\u001b[0;34m\u001b[0m\u001b[0m\n\u001b[0;32m----> 2\u001b[0;31m \u001b[0mnum2\u001b[0m \u001b[0;34m=\u001b[0m \u001b[0mint\u001b[0m\u001b[0;34m(\u001b[0m\u001b[0minput\u001b[0m\u001b[0;34m(\u001b[0m\u001b[0;34m'Please enter a second number:'\u001b[0m\u001b[0;34m)\u001b[0m\u001b[0;34m)\u001b[0m\u001b[0;34m\u001b[0m\u001b[0;34m\u001b[0m\u001b[0m\n\u001b[0m\u001b[1;32m      3\u001b[0m \u001b[0;34m\u001b[0m\u001b[0m\n\u001b[1;32m      4\u001b[0m \u001b[0msum\u001b[0m \u001b[0;34m=\u001b[0m \u001b[0mnum1\u001b[0m \u001b[0;34m+\u001b[0m \u001b[0mnum2\u001b[0m\u001b[0;34m\u001b[0m\u001b[0;34m\u001b[0m\u001b[0m\n\u001b[1;32m      5\u001b[0m \u001b[0mprint\u001b[0m\u001b[0;34m(\u001b[0m\u001b[0;34mf'The sum of {num1} + {num2} = {sum}'\u001b[0m\u001b[0;34m)\u001b[0m\u001b[0;34m\u001b[0m\u001b[0;34m\u001b[0m\u001b[0m\n",
            "\u001b[0;31mValueError\u001b[0m: invalid literal for int() with base 10: 'test'"
          ]
        }
      ],
      "source": [
        "\n",
        "num1 = int(input('Please enter a number:'))\n",
        "num2 = int(input('Please enter a second number:'))\n",
        "\n",
        "sum = num1 + num2\n",
        "print(f'The sum of {num1} + {num2} = {sum}')"
      ]
    },
    {
      "cell_type": "markdown",
      "metadata": {
        "id": "oBUAri8lF13r"
      },
      "source": [
        "### ValueError: invalid literal for int() with base 10: 'test'\n",
        "### **Type** - ValueError\n",
        "### **Reason of Error** - Invalid literal for int() with base 10: 'test'"
      ]
    },
    {
      "cell_type": "markdown",
      "metadata": {
        "id": "wbMgJepaDSpF"
      },
      "source": [
        "## try-except\n",
        "### add **try** for what you want to try and **except** for what to do in the case of an exception"
      ]
    },
    {
      "cell_type": "code",
      "execution_count": null,
      "metadata": {
        "colab": {
          "base_uri": "https://localhost:8080/"
        },
        "id": "jwXDeP_rC-UB",
        "outputId": "7fa4027d-e4f9-48a1-880d-7f9ba6dcebb6"
      },
      "outputs": [
        {
          "output_type": "stream",
          "name": "stdout",
          "text": [
            "Please enter a number:yes\n",
            "Incorrect information provided - please run the program again\n"
          ]
        }
      ],
      "source": [
        "\n",
        "try:\n",
        "  num1 = int(input('Please enter a number:'))\n",
        "  num2 = int(input('Please enter a second number:'))\n",
        "  sum = num1 + num2\n",
        "  print(f'The sum of {num1} + {num2} = {sum}')\n",
        "\n",
        "except:\n",
        "    print('Incorrect information provided - please run the program again')"
      ]
    },
    {
      "cell_type": "code",
      "source": [],
      "metadata": {
        "id": "e5MJgqBGbmFe"
      },
      "execution_count": null,
      "outputs": []
    },
    {
      "cell_type": "code",
      "source": [
        "a='test'\n",
        "b='df'\n",
        "a*b"
      ],
      "metadata": {
        "colab": {
          "base_uri": "https://localhost:8080/",
          "height": 208
        },
        "id": "Dak6WSeLDfDe",
        "outputId": "29cc0ea1-e39e-4214-bb97-5c86b863c253"
      },
      "execution_count": null,
      "outputs": [
        {
          "output_type": "error",
          "ename": "TypeError",
          "evalue": "ignored",
          "traceback": [
            "\u001b[0;31m---------------------------------------------------------------------------\u001b[0m",
            "\u001b[0;31mTypeError\u001b[0m                                 Traceback (most recent call last)",
            "\u001b[0;32m<ipython-input-6-221de6438279>\u001b[0m in \u001b[0;36m<cell line: 3>\u001b[0;34m()\u001b[0m\n\u001b[1;32m      1\u001b[0m \u001b[0ma\u001b[0m\u001b[0;34m=\u001b[0m\u001b[0;34m'test'\u001b[0m\u001b[0;34m\u001b[0m\u001b[0;34m\u001b[0m\u001b[0m\n\u001b[1;32m      2\u001b[0m \u001b[0mb\u001b[0m\u001b[0;34m=\u001b[0m\u001b[0;34m'df'\u001b[0m\u001b[0;34m\u001b[0m\u001b[0;34m\u001b[0m\u001b[0m\n\u001b[0;32m----> 3\u001b[0;31m \u001b[0ma\u001b[0m\u001b[0;34m*\u001b[0m\u001b[0mb\u001b[0m\u001b[0;34m\u001b[0m\u001b[0;34m\u001b[0m\u001b[0m\n\u001b[0m",
            "\u001b[0;31mTypeError\u001b[0m: can't multiply sequence by non-int of type 'str'"
          ]
        }
      ]
    },
    {
      "cell_type": "code",
      "execution_count": null,
      "metadata": {
        "colab": {
          "base_uri": "https://localhost:8080/",
          "height": 176
        },
        "id": "4PZWF0exDhpw",
        "outputId": "0569d94c-2c77-40f1-f37c-8ee13bc6bff9"
      },
      "outputs": [
        {
          "ename": "ValueError",
          "evalue": "ignored",
          "output_type": "error",
          "traceback": [
            "\u001b[0;31m---------------------------------------------------------------------------\u001b[0m",
            "\u001b[0;31mValueError\u001b[0m                                Traceback (most recent call last)",
            "\u001b[0;32m<ipython-input-4-133d3937fb25>\u001b[0m in \u001b[0;36m<cell line: 1>\u001b[0;34m()\u001b[0m\n\u001b[0;32m----> 1\u001b[0;31m \u001b[0mprint\u001b[0m\u001b[0;34m(\u001b[0m\u001b[0mint\u001b[0m\u001b[0;34m(\u001b[0m\u001b[0;34m'dog'\u001b[0m\u001b[0;34m)\u001b[0m\u001b[0;34m)\u001b[0m\u001b[0;34m\u001b[0m\u001b[0;34m\u001b[0m\u001b[0m\n\u001b[0m",
            "\u001b[0;31mValueError\u001b[0m: invalid literal for int() with base 10: 'dog'"
          ]
        }
      ],
      "source": [
        "print(int('dog'))"
      ]
    },
    {
      "cell_type": "code",
      "execution_count": null,
      "metadata": {
        "colab": {
          "base_uri": "https://localhost:8080/",
          "height": 194
        },
        "id": "A62OkgjvEGCr",
        "outputId": "e2c727bc-875e-4523-99c2-8d08a2bb6587"
      },
      "outputs": [
        {
          "ename": "ValueError",
          "evalue": "ignored",
          "output_type": "error",
          "traceback": [
            "\u001b[0;31m---------------------------------------------------------------------------\u001b[0m",
            "\u001b[0;31mValueError\u001b[0m                                Traceback (most recent call last)",
            "\u001b[0;32m<ipython-input-8-31446d7079a9>\u001b[0m in \u001b[0;36m<cell line: 2>\u001b[0;34m()\u001b[0m\n\u001b[1;32m      1\u001b[0m \u001b[0mletters\u001b[0m \u001b[0;34m=\u001b[0m \u001b[0;34m[\u001b[0m\u001b[0;34m'a'\u001b[0m\u001b[0;34m,\u001b[0m\u001b[0;34m'b'\u001b[0m\u001b[0;34m,\u001b[0m\u001b[0;34m'c'\u001b[0m\u001b[0;34m]\u001b[0m\u001b[0;34m\u001b[0m\u001b[0;34m\u001b[0m\u001b[0m\n\u001b[0;32m----> 2\u001b[0;31m \u001b[0mlet1\u001b[0m\u001b[0;34m,\u001b[0m \u001b[0mlet2\u001b[0m \u001b[0;34m=\u001b[0m \u001b[0mletters\u001b[0m\u001b[0;34m\u001b[0m\u001b[0;34m\u001b[0m\u001b[0m\n\u001b[0m",
            "\u001b[0;31mValueError\u001b[0m: too many values to unpack (expected 2)"
          ]
        }
      ],
      "source": [
        "letters = ['a','b','c']\n",
        "let1, let2 = letters\n"
      ]
    },
    {
      "cell_type": "markdown",
      "metadata": {
        "id": "3GHnFt2JDqu-"
      },
      "source": [
        "## Key Error\n",
        "\n"
      ]
    },
    {
      "cell_type": "code",
      "execution_count": null,
      "metadata": {
        "colab": {
          "base_uri": "https://localhost:8080/",
          "height": 194
        },
        "id": "9sQtZOLeDzGc",
        "outputId": "d375bbc2-6821-4973-8fb7-5bfa9ff78b71"
      },
      "outputs": [
        {
          "ename": "KeyError",
          "evalue": "ignored",
          "output_type": "error",
          "traceback": [
            "\u001b[0;31m---------------------------------------------------------------------------\u001b[0m",
            "\u001b[0;31mKeyError\u001b[0m                                  Traceback (most recent call last)",
            "\u001b[0;32m<ipython-input-6-566971eb1016>\u001b[0m in \u001b[0;36m<cell line: 2>\u001b[0;34m()\u001b[0m\n\u001b[1;32m      1\u001b[0m \u001b[0mteams\u001b[0m \u001b[0;34m=\u001b[0m \u001b[0;34m{\u001b[0m\u001b[0;34m'Red Wings'\u001b[0m \u001b[0;34m:\u001b[0m \u001b[0;36m1926\u001b[0m\u001b[0;34m,\u001b[0m \u001b[0;34m'Blackhawks'\u001b[0m\u001b[0;34m:\u001b[0m \u001b[0;36m1926\u001b[0m \u001b[0;34m}\u001b[0m\u001b[0;34m\u001b[0m\u001b[0;34m\u001b[0m\u001b[0m\n\u001b[0;32m----> 2\u001b[0;31m \u001b[0mprint\u001b[0m\u001b[0;34m(\u001b[0m\u001b[0mteams\u001b[0m\u001b[0;34m[\u001b[0m\u001b[0;34m'Maple Leafs'\u001b[0m\u001b[0;34m]\u001b[0m\u001b[0;34m)\u001b[0m\u001b[0;34m\u001b[0m\u001b[0;34m\u001b[0m\u001b[0m\n\u001b[0m",
            "\u001b[0;31mKeyError\u001b[0m: 'Maple Leafs'"
          ]
        }
      ],
      "source": [
        "teams = {'Red Wings' : 1926, 'Blackhawks': 1926 }\n",
        "print(teams['Maple Leafs'])"
      ]
    },
    {
      "cell_type": "markdown",
      "metadata": {
        "id": "KT5GQS9ZD5nJ"
      },
      "source": [
        "## Index error"
      ]
    },
    {
      "cell_type": "code",
      "execution_count": null,
      "metadata": {
        "colab": {
          "base_uri": "https://localhost:8080/",
          "height": 194
        },
        "id": "bz7ZyQEVD2zp",
        "outputId": "f7873a57-9c3c-47eb-b82f-ff0bd366768d"
      },
      "outputs": [
        {
          "ename": "IndexError",
          "evalue": "ignored",
          "output_type": "error",
          "traceback": [
            "\u001b[0;31m---------------------------------------------------------------------------\u001b[0m",
            "\u001b[0;31mIndexError\u001b[0m                                Traceback (most recent call last)",
            "\u001b[0;32m<ipython-input-7-c4ffe39b34f2>\u001b[0m in \u001b[0;36m<cell line: 2>\u001b[0;34m()\u001b[0m\n\u001b[1;32m      1\u001b[0m \u001b[0mwinning_numbers\u001b[0m \u001b[0;34m=\u001b[0m \u001b[0;34m[\u001b[0m\u001b[0;36m1\u001b[0m\u001b[0;34m,\u001b[0m \u001b[0;36m2\u001b[0m \u001b[0;34m,\u001b[0m\u001b[0;36m3\u001b[0m \u001b[0;34m,\u001b[0m\u001b[0;36m4\u001b[0m\u001b[0;34m]\u001b[0m\u001b[0;34m\u001b[0m\u001b[0;34m\u001b[0m\u001b[0m\n\u001b[0;32m----> 2\u001b[0;31m \u001b[0mprint\u001b[0m\u001b[0;34m(\u001b[0m\u001b[0mwinning_numbers\u001b[0m\u001b[0;34m[\u001b[0m\u001b[0;36m4\u001b[0m\u001b[0;34m]\u001b[0m\u001b[0;34m)\u001b[0m\u001b[0;34m\u001b[0m\u001b[0;34m\u001b[0m\u001b[0m\n\u001b[0m",
            "\u001b[0;31mIndexError\u001b[0m: list index out of range"
          ]
        }
      ],
      "source": [
        "winning_numbers = [1, 2 ,3 ,4]\n",
        "print(winning_numbers[4])"
      ]
    },
    {
      "cell_type": "markdown",
      "metadata": {
        "id": "5ggToeGvEQ4Z"
      },
      "source": [
        "## Name Error"
      ]
    },
    {
      "cell_type": "code",
      "execution_count": null,
      "metadata": {
        "colab": {
          "base_uri": "https://localhost:8080/",
          "height": 208
        },
        "id": "AIHmI6EXEPZE",
        "outputId": "86d2627c-010a-4817-8c52-cc8211743bd7"
      },
      "outputs": [
        {
          "output_type": "error",
          "ename": "NameError",
          "evalue": "ignored",
          "traceback": [
            "\u001b[0;31m---------------------------------------------------------------------------\u001b[0m",
            "\u001b[0;31mNameError\u001b[0m                                 Traceback (most recent call last)",
            "\u001b[0;32m<ipython-input-7-d044928f5d2f>\u001b[0m in \u001b[0;36m<cell line: 4>\u001b[0;34m()\u001b[0m\n\u001b[1;32m      2\u001b[0m     \u001b[0mprint\u001b[0m\u001b[0;34m(\u001b[0m\u001b[0;34mf'{text}'\u001b[0m\u001b[0;34m)\u001b[0m\u001b[0;34m\u001b[0m\u001b[0;34m\u001b[0m\u001b[0m\n\u001b[1;32m      3\u001b[0m \u001b[0;34m\u001b[0m\u001b[0m\n\u001b[0;32m----> 4\u001b[0;31m \u001b[0mprint\u001b[0m\u001b[0;34m(\u001b[0m\u001b[0mtext\u001b[0m\u001b[0;34m)\u001b[0m\u001b[0;34m\u001b[0m\u001b[0;34m\u001b[0m\u001b[0m\n\u001b[0m",
            "\u001b[0;31mNameError\u001b[0m: name 'text' is not defined"
          ]
        }
      ],
      "source": [
        "def display_message(text):\n",
        "    print(f'{text}')\n",
        "\n",
        "print(text)"
      ]
    },
    {
      "cell_type": "code",
      "source": [
        "x = y+b"
      ],
      "metadata": {
        "colab": {
          "base_uri": "https://localhost:8080/",
          "height": 174
        },
        "id": "WSQJ9p1BE-Er",
        "outputId": "a06920d7-e7fe-4faa-ee7f-da0cde7bdc27"
      },
      "execution_count": null,
      "outputs": [
        {
          "output_type": "error",
          "ename": "NameError",
          "evalue": "ignored",
          "traceback": [
            "\u001b[0;31m---------------------------------------------------------------------------\u001b[0m",
            "\u001b[0;31mNameError\u001b[0m                                 Traceback (most recent call last)",
            "\u001b[0;32m<ipython-input-8-24a24e47a3a0>\u001b[0m in \u001b[0;36m<cell line: 1>\u001b[0;34m()\u001b[0m\n\u001b[0;32m----> 1\u001b[0;31m \u001b[0mx\u001b[0m \u001b[0;34m=\u001b[0m \u001b[0my\u001b[0m\u001b[0;34m+\u001b[0m\u001b[0mb\u001b[0m\u001b[0;34m\u001b[0m\u001b[0;34m\u001b[0m\u001b[0m\n\u001b[0m",
            "\u001b[0;31mNameError\u001b[0m: name 'y' is not defined"
          ]
        }
      ]
    },
    {
      "cell_type": "markdown",
      "metadata": {
        "id": "jQ_aen1bEg3D"
      },
      "source": [
        "## Zero Division error"
      ]
    },
    {
      "cell_type": "code",
      "execution_count": null,
      "metadata": {
        "colab": {
          "base_uri": "https://localhost:8080/",
          "height": 281
        },
        "id": "9GW6k6pPEdPS",
        "outputId": "b5901c18-d024-4b0a-df41-323979a5210b"
      },
      "outputs": [
        {
          "name": "stdout",
          "output_type": "stream",
          "text": [
            "Please enter your mark:3\n",
            "Please enter what the test is out of:0\n"
          ]
        },
        {
          "ename": "ZeroDivisionError",
          "evalue": "ignored",
          "output_type": "error",
          "traceback": [
            "\u001b[0;31m---------------------------------------------------------------------------\u001b[0m",
            "\u001b[0;31mZeroDivisionError\u001b[0m                         Traceback (most recent call last)",
            "\u001b[0;32m<ipython-input-12-6151b4e2d4d3>\u001b[0m in \u001b[0;36m<cell line: 4>\u001b[0;34m()\u001b[0m\n\u001b[1;32m      2\u001b[0m \u001b[0mtest_total\u001b[0m \u001b[0;34m=\u001b[0m \u001b[0mint\u001b[0m\u001b[0;34m(\u001b[0m\u001b[0minput\u001b[0m\u001b[0;34m(\u001b[0m\u001b[0;34m'Please enter what the test is out of:'\u001b[0m\u001b[0;34m)\u001b[0m\u001b[0;34m)\u001b[0m\u001b[0;34m\u001b[0m\u001b[0;34m\u001b[0m\u001b[0m\n\u001b[1;32m      3\u001b[0m \u001b[0;34m\u001b[0m\u001b[0m\n\u001b[0;32m----> 4\u001b[0;31m \u001b[0maverage\u001b[0m \u001b[0;34m=\u001b[0m \u001b[0mgrade\u001b[0m \u001b[0;34m/\u001b[0m \u001b[0mtest_total\u001b[0m \u001b[0;34m*\u001b[0m \u001b[0;36m100\u001b[0m\u001b[0;34m\u001b[0m\u001b[0;34m\u001b[0m\u001b[0m\n\u001b[0m\u001b[1;32m      5\u001b[0m \u001b[0;34m\u001b[0m\u001b[0m\n\u001b[1;32m      6\u001b[0m \u001b[0mprint\u001b[0m\u001b[0;34m(\u001b[0m\u001b[0;34mf'For this test you receive {average:.2f}%'\u001b[0m\u001b[0;34m)\u001b[0m\u001b[0;34m\u001b[0m\u001b[0;34m\u001b[0m\u001b[0m\n",
            "\u001b[0;31mZeroDivisionError\u001b[0m: division by zero"
          ]
        }
      ],
      "source": [
        "grade = int(input('Please enter your mark:'))\n",
        "test_total = int(input('Please enter what the test is out of:'))\n",
        "\n",
        "average = grade / test_total * 100\n",
        "\n",
        "print(f'For this test you receive {average:.2f}%')"
      ]
    },
    {
      "cell_type": "code",
      "source": [
        "\n",
        "x=6%0"
      ],
      "metadata": {
        "colab": {
          "base_uri": "https://localhost:8080/",
          "height": 174
        },
        "id": "7oq9w-f0FmML",
        "outputId": "13f830a1-ab29-4cb0-c799-ce5f8c8ba4e7"
      },
      "execution_count": null,
      "outputs": [
        {
          "output_type": "error",
          "ename": "ZeroDivisionError",
          "evalue": "ignored",
          "traceback": [
            "\u001b[0;31m---------------------------------------------------------------------------\u001b[0m",
            "\u001b[0;31mZeroDivisionError\u001b[0m                         Traceback (most recent call last)",
            "\u001b[0;32m<ipython-input-11-f214c681aa62>\u001b[0m in \u001b[0;36m<cell line: 1>\u001b[0;34m()\u001b[0m\n\u001b[0;32m----> 1\u001b[0;31m \u001b[0mx\u001b[0m\u001b[0;34m=\u001b[0m\u001b[0;36m6\u001b[0m\u001b[0;34m%\u001b[0m\u001b[0;36m0\u001b[0m\u001b[0;34m\u001b[0m\u001b[0;34m\u001b[0m\u001b[0m\n\u001b[0m",
            "\u001b[0;31mZeroDivisionError\u001b[0m: integer division or modulo by zero"
          ]
        }
      ]
    },
    {
      "cell_type": "markdown",
      "metadata": {
        "id": "Q0_ab_JPErKe"
      },
      "source": [
        "## Possible error (ZeroDivisionError , ValueError)\n",
        "can get an error if the test-total value is 0 - can also get an error if they enter a string that cannot be converted into an integer\n"
      ]
    },
    {
      "cell_type": "code",
      "execution_count": null,
      "metadata": {
        "colab": {
          "base_uri": "https://localhost:8080/"
        },
        "id": "EYNqtrBEEo9j",
        "outputId": "10fbf4fa-f1ec-462e-cc76-85d7859477db"
      },
      "outputs": [
        {
          "output_type": "stream",
          "name": "stdout",
          "text": [
            "Please enter your mark:56\n",
            "Please enter what the test is out of:test\n",
            "Invalid entry - please enter a number for the grade and test_total\n"
          ]
        }
      ],
      "source": [
        "try:\n",
        "    grade = int(input('Please enter your mark:'))\n",
        "    test_total = int(input('Please enter what the test is out of:'))\n",
        "\n",
        "    average = grade / test_total * 100\n",
        "\n",
        "    print(f'For this test you receive {average:.2f}%')\n",
        "except ZeroDivisionError:\n",
        "    print('Invalid test total entered - cannot be 0')\n",
        "except ValueError:\n",
        "    print('Invalid entry - please enter a number for the grade and test_total')\n"
      ]
    },
    {
      "cell_type": "markdown",
      "metadata": {
        "id": "t7_MdVo5FNN2"
      },
      "source": [
        "## raise exceptions with custom error message"
      ]
    },
    {
      "cell_type": "code",
      "source": [
        "int('string')"
      ],
      "metadata": {
        "colab": {
          "base_uri": "https://localhost:8080/",
          "height": 174
        },
        "id": "7OREWtnyH_fT",
        "outputId": "ee2753ad-f666-440a-992b-b4ac30225b14"
      },
      "execution_count": null,
      "outputs": [
        {
          "output_type": "error",
          "ename": "ValueError",
          "evalue": "ignored",
          "traceback": [
            "\u001b[0;31m---------------------------------------------------------------------------\u001b[0m",
            "\u001b[0;31mValueError\u001b[0m                                Traceback (most recent call last)",
            "\u001b[0;32m<ipython-input-15-b5203544975d>\u001b[0m in \u001b[0;36m<cell line: 1>\u001b[0;34m()\u001b[0m\n\u001b[0;32m----> 1\u001b[0;31m \u001b[0mint\u001b[0m\u001b[0;34m(\u001b[0m\u001b[0;34m'string'\u001b[0m\u001b[0;34m)\u001b[0m\u001b[0;34m\u001b[0m\u001b[0;34m\u001b[0m\u001b[0m\n\u001b[0m",
            "\u001b[0;31mValueError\u001b[0m: invalid literal for int() with base 10: 'string'"
          ]
        }
      ]
    },
    {
      "cell_type": "code",
      "execution_count": null,
      "metadata": {
        "colab": {
          "base_uri": "https://localhost:8080/"
        },
        "id": "tJlfghBXFFpP",
        "outputId": "393a17cf-e335-42dd-cd14-90f5df85d685"
      },
      "outputs": [
        {
          "output_type": "stream",
          "name": "stdout",
          "text": [
            "Please enter your mark:30\n",
            "Please enter what the test is out of:0\n",
            "Test total must be greater than 0: Incorrect values entered\n"
          ]
        }
      ],
      "source": [
        "try:\n",
        "    grade = int(input('Please enter your mark:'))\n",
        "    test_total = int(input('Please enter what the test is out of:'))\n",
        "    if test_total <=0:\n",
        "        raise ZeroDivisionError('Test total must be greater than 0')\n",
        "    average = grade / test_total * 100\n",
        "\n",
        "    print(f'For this test you receive {average:.2f}%')\n",
        "except ZeroDivisionError as reason:\n",
        "    print(f'{reason}: Incorrect values entered')\n",
        "except:\n",
        "    print(\"Something wrong\")"
      ]
    },
    {
      "cell_type": "markdown",
      "metadata": {
        "id": "_6G1muZIJJl9"
      },
      "source": [
        "## raise exceptions in functions with custom error message"
      ]
    },
    {
      "cell_type": "code",
      "execution_count": null,
      "metadata": {
        "colab": {
          "base_uri": "https://localhost:8080/"
        },
        "id": "xkeeAbFMIquL",
        "outputId": "e67b5e8a-f33a-4836-f099-bba984c95329"
      },
      "outputs": [
        {
          "output_type": "stream",
          "name": "stdout",
          "text": [
            "Please enter your mark:56\n",
            "Please enter what the test is out of:test\n",
            "invalid literal for int() with base 10: 'test'\n",
            "Incorrect values entered\n"
          ]
        }
      ],
      "source": [
        "def get_testTotal():\n",
        "    test_total = int(input('Please enter what the test is out of:'))\n",
        "    if test_total <=0:\n",
        "        raise ValueError('Test total must be greater than 0')\n",
        "    return test_total\n",
        "\n",
        "try:\n",
        "    grade = int(input('Please enter your mark:'))\n",
        "    test_total = get_testTotal()\n",
        "    average = grade / test_total * 100\n",
        "\n",
        "    print(f'For this test you receive {average:.2f}%')\n",
        "except ValueError as reason:\n",
        "    print(reason)\n",
        "    print('Incorrect values entered')"
      ]
    },
    {
      "cell_type": "markdown",
      "metadata": {
        "id": "AuNcBUc_Hzkf"
      },
      "source": [
        "## \"finally\" clause"
      ]
    },
    {
      "cell_type": "code",
      "execution_count": null,
      "metadata": {
        "colab": {
          "base_uri": "https://localhost:8080/"
        },
        "id": "JWpqN9jrG_Wj",
        "outputId": "1650e864-33b3-443a-ecff-dc54e8e604eb"
      },
      "outputs": [
        {
          "output_type": "stream",
          "name": "stdout",
          "text": [
            "Please enter a number:test\n",
            "Please enter a number\n",
            "This always happens\n"
          ]
        }
      ],
      "source": [
        "try:\n",
        "    div = int(input('Please enter a number:'))\n",
        "    num = 5\n",
        "\n",
        "    result = num / div\n",
        "\n",
        "    print(f'{num}  divided by {div} to {result}')\n",
        "except ValueError:\n",
        "    print('Please enter a number')\n",
        "except:\n",
        "\n",
        "    print('An error has occured, please try again')\n",
        "finally:\n",
        "    print('This always happens')"
      ]
    },
    {
      "cell_type": "markdown",
      "metadata": {
        "id": "wiLMlPrtJDbb"
      },
      "source": [
        "## Custom Exception\n",
        "Creating Custom Error Types using Constructor"
      ]
    },
    {
      "cell_type": "code",
      "execution_count": null,
      "metadata": {
        "colab": {
          "base_uri": "https://localhost:8080/"
        },
        "id": "daeAfyisIk3s",
        "outputId": "307eed7c-6b6b-4f97-f200-1e512e526f59"
      },
      "outputs": [
        {
          "output_type": "stream",
          "name": "stdout",
          "text": [
            "Guess my favourite movie!test\n",
            "Guessed wrong\n"
          ]
        }
      ],
      "source": [
        "class IncorrectMovieError(Exception):\n",
        "      def __init__(self, value='testvalue'):\n",
        "            self.value = value\n",
        "try:\n",
        "    fav_movie = input('Guess my favourite movie!').title()\n",
        "\n",
        "    if fav_movie != 'Star Wars':\n",
        "            raise IncorrectMovieError('Guessed wrong')\n",
        "    else:\n",
        "        print(f'You got it!')\n",
        "\n",
        "except IncorrectMovieError as reason:\n",
        "      print(reason)"
      ]
    },
    {
      "cell_type": "markdown",
      "metadata": {
        "id": "_8y7BgFuL2wx"
      },
      "source": [
        "# Exercise Question"
      ]
    },
    {
      "cell_type": "markdown",
      "source": [
        "- Create a program that will handle looking up student’s grades\n",
        "- The grades will be part of a dictionary – with the student’s name as the keys,\n",
        "and the courses and grades as a dictionary of values\n",
        "- Provide appropriate error handling in case the user asks for a student that\n",
        "does not have any grades"
      ],
      "metadata": {
        "id": "3QycJiNKhOFY"
      }
    },
    {
      "cell_type": "code",
      "execution_count": null,
      "metadata": {
        "colab": {
          "base_uri": "https://localhost:8080/"
        },
        "id": "dKapLMloMDkD",
        "outputId": "353af318-bdca-407a-c8bb-2fd7a683a517"
      },
      "outputs": [
        {
          "output_type": "stream",
          "name": "stdout",
          "text": [
            "{'Harry': {'Language': 88, 'Arts': 92}, 'Ron': {'Language': 66, 'Arts': 72}, 'Hermione': {'Arts': 100, 'Language': 100, 'Math': 100}}\n",
            "Welcome to our grade program\n",
            "----------------------------\n",
            "To look up a student, type S \n",
            " To quit type Q:s\n",
            "Please enter the student name to look up:tt\n",
            "Tt does not exist - please try again.\n"
          ]
        }
      ],
      "source": [
        "students = {'Harry': {'Language': 88, 'Arts': 92}}\n",
        "students['Ron']= {'Language': 66, 'Arts': 72}\n",
        "students['Hermione'] ={'Arts': 100, 'Language': 100, 'Math': 100}\n",
        "\n",
        "print(students)\n",
        "\n",
        "\n",
        "welcome = 'Welcome to our grade program'\n",
        "print(welcome)\n",
        "print('-'*len(welcome))\n",
        "\n",
        "choice = input('To look up a student, type S \\n To quit type Q:').upper()\n",
        "\n",
        "while choice != 'Q':\n",
        "    if choice == 'S':\n",
        "        student_name = input('Please enter the student name to look up:').capitalize()\n",
        "        try:\n",
        "            grades = students[student_name]\n",
        "            print(grades)\n",
        "            print('-'*30)\n",
        "            print(f'Grades - {student_name}')\n",
        "            print('-'*30)\n",
        "            for course, grade in grades.items():\n",
        "                print(f'{course} : {grade}%')\n",
        "            print('\\n')\n",
        "        except KeyError:\n",
        "            print(f'{student_name} does not exist - please try again.')\n",
        "        except:\n",
        "            print('Unknown error - please try again.')\n",
        "\n",
        "\n",
        "    choice = input(menu_message).upper()\n",
        "\n",
        "print('Thank you for using our program.')\n"
      ]
    }
  ],
  "metadata": {
    "colab": {
      "toc_visible": true,
      "provenance": []
    },
    "kernelspec": {
      "display_name": "Python 3",
      "name": "python3"
    },
    "language_info": {
      "name": "python"
    }
  },
  "nbformat": 4,
  "nbformat_minor": 0
}