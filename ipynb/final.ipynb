{
 "cells": [
  {
   "cell_type": "markdown",
   "metadata": {},
   "source": [
    "# Final Exam Practice Questions - Part 1"
   ]
  },
  {
   "cell_type": "markdown",
   "metadata": {},
   "source": [
    "1. A class that inherits properties and methods from another class is a subclass or **derived** class."
   ]
  },
  {
   "cell_type": "markdown",
   "metadata": {},
   "source": [
    "2. Choose the correct function declaration of `fun()` so that we can execute the following function call successfully.\n",
    "```py\n",
    "fun(12, 18. 19)\n",
    "fun(3, 4, 5, 7)\n",
    "```\n",
    "`def fun(*data)`"
   ]
  },
  {
   "cell_type": "markdown",
   "metadata": {},
   "source": [
    "3. I want to know if the first letter in a string is the letter w. To do this I can use the string method `startswith(\"w\")`."
   ]
  },
  {
   "cell_type": "markdown",
   "metadata": {},
   "source": [
    "4. If I applied the title method to the string - 'This Is a Title', the resulting string returned would be **This Is A Title**."
   ]
  },
  {
   "cell_type": "markdown",
   "metadata": {},
   "source": [
    "5. If a derived class offers its own implementation of a method, it is said to be **overriding** the method."
   ]
  },
  {
   "cell_type": "markdown",
   "metadata": {},
   "source": [
    "6. If one object is a more defined version of another, this indicates that there is an **inheritance relationship**.  For example, a student is a more defined version of a person."
   ]
  },
  {
   "cell_type": "markdown",
   "metadata": {},
   "source": [
    "7. In Python, **indentation**. defines a block of statements."
   ]
  },
  {
   "cell_type": "markdown",
   "metadata": {},
   "source": [
    "8. In the example code below:\n",
    "```py\n",
    "def print_name_and_age(name, age):\n",
    "    print(f'Hello {name}- you are {age} yrs old.')\n",
    "print_name_and_age(1, 'Bob')\n",
    "```\n",
    "The result of this code would best be described as **A logic error**. "
   ]
  },
  {
   "cell_type": "markdown",
   "metadata": {},
   "source": [
    "9. In this example - \"How many would you like?\" is best described as: **argument**.\n",
    "```py\n",
    "qty = input('How many would you like?')\n",
    "```"
   ]
  },
  {
   "cell_type": "markdown",
   "metadata": {},
   "source": [
    "10. Looking at this code:\n",
    "```py\n",
    "class Robot(Machine):\n",
    "```\n",
    "**base class**."
   ]
  },
  {
   "cell_type": "code",
   "execution_count": null,
   "metadata": {},
   "outputs": [],
   "source": [
    "# 11. Predict the output for the below question.\n",
    "def fun(x,y):\n",
    "    if (y == 0):   \n",
    "        return 0\n",
    "    return (x + fun(x, y-1))\n",
    "print(fun(2,6)) # 12"
   ]
  },
  {
   "cell_type": "code",
   "execution_count": null,
   "metadata": {},
   "outputs": [],
   "source": [
    "\n",
    "# 12. Predict the output of the following code:\n",
    "\n",
    "x=3\n",
    "if x>2 or x<5 and x>6:\n",
    "          print(\"ok\")\n",
    "else:\n",
    "        print(\"no output\") \n",
    "        # no output"
   ]
  },
  {
   "cell_type": "markdown",
   "metadata": {},
   "source": [
    "13. The relationship between a car class and a tire class would best be described as **has-a**."
   ]
  },
  {
   "cell_type": "markdown",
   "metadata": {},
   "source": [
    "14. The relationshp between a mug class and a cup class would best be described as **an is-a relationship**."
   ]
  },
  {
   "cell_type": "markdown",
   "metadata": {},
   "source": [
    "15. The two membership operators are **in** and **not in**."
   ]
  },
  {
   "cell_type": "markdown",
   "metadata": {},
   "source": [
    "16. This function returns the number of characters (including white space) that are in a string **len()**."
   ]
  },
  {
   "cell_type": "markdown",
   "metadata": {},
   "source": [
    "17. This is a function input that is specified in a function definition.  It is like a variable definition.  Upon return, this can no longer be used. **parameter**"
   ]
  },
  {
   "cell_type": "markdown",
   "metadata": {},
   "source": [
    "18. This is a special keyword that indicates no value.  A function with no return statement, or a return statement with no following expression returns this value. **None**"
   ]
  },
  {
   "cell_type": "markdown",
   "metadata": {},
   "source": [
    "19. This is a special keyword that indicates no value.  A function with no return statement, or a return statement with no following expression returns this value. **None**"
   ]
  },
  {
   "cell_type": "markdown",
   "metadata": {},
   "source": [
    "20. This is properly commented code in Python\n",
    "```py\n",
    "# This is commented code\n",
    "```"
   ]
  },
  {
   "cell_type": "markdown",
   "metadata": {},
   "source": [
    "21. `=` This is the assignment operator."
   ]
  },
  {
   "cell_type": "markdown",
   "metadata": {},
   "source": [
    "22. This method is used to combine a list of strings with a designated separator value `join()`."
   ]
  },
  {
   "cell_type": "markdown",
   "metadata": {},
   "source": [
    "23. `Argument` This represents the value provided to a function's parameter during a function call. "
   ]
  },
  {
   "cell_type": "markdown",
   "metadata": {},
   "source": [
    "24. Variables that are declared inside of a function have **local scope**, which means they can not be accessed outside the function's body.\n"
   ]
  },
  {
   "cell_type": "markdown",
   "metadata": {},
   "source": [
    "25. What happens if a recursive function does not have a base case? **The function will execute indefinitely.**"
   ]
  },
  {
   "cell_type": "markdown",
   "metadata": {},
   "source": [
    "26. What is a base case in recursive functions? **A condition that stops the recursion**."
   ]
  },
  {
   "cell_type": "markdown",
   "metadata": {},
   "source": [
    "27. What is recursion in Python? **A function calling itself**"
   ]
  },
  {
   "cell_type": "markdown",
   "metadata": {},
   "source": [
    "28. What is the advantage of selection sort over other sorting techniques? **No additional storage space**"
   ]
  },
  {
   "cell_type": "code",
   "execution_count": null,
   "metadata": {},
   "outputs": [],
   "source": [
    "# 29. What is the output of the following function call?\n",
    "def outer_fun(a, b):\n",
    "       def inner_fun(c, d):\n",
    "           return c+d\n",
    "       return inner_fun(a, b)\n",
    "       return a\n",
    "result = outer_fun(5, 10)\n",
    "print(result)\n",
    "# 15"
   ]
  },
  {
   "cell_type": "markdown",
   "metadata": {},
   "source": [
    "30. What keyword would you use to add an alternative condition to an if statement? `elif`\n"
   ]
  },
  {
   "cell_type": "markdown",
   "metadata": {},
   "source": [
    "31. What will be displayed in the console for this code?\n",
    "```py\n",
    "name = input('Please enter your name') # Please enter your name\n",
    "```"
   ]
  },
  {
   "cell_type": "code",
   "execution_count": null,
   "metadata": {},
   "outputs": [],
   "source": [
    "# 32. What will be the output for this?\n",
    "my_list = [\"Hello\" , \"Python\"]\n",
    "print(\"-\".join(my_list))\n",
    "# Output: Hello-Python"
   ]
  },
  {
   "cell_type": "code",
   "execution_count": null,
   "metadata": {},
   "outputs": [],
   "source": [
    "# 33. What will be the output of the following Python code?\n",
    "a = [1, 2, 3, 4]\n",
    "b = [sum(a[0:x+1]) for x in range(0,len(a))]\n",
    "print(b)"
   ]
  },
  {
   "cell_type": "code",
   "execution_count": null,
   "metadata": {},
   "outputs": [],
   "source": [
    "# 34. What will be the output of the following Python code?\n",
    "lst = [3, 4, 6, 1, 2]\n",
    "lst[1:2] = [7, 8]\n",
    "print(lst)"
   ]
  },
  {
   "cell_type": "code",
   "execution_count": 1,
   "metadata": {},
   "outputs": [
    {
     "name": "stdout",
     "output_type": "stream",
     "text": [
      "5\n"
     ]
    }
   ],
   "source": [
    "# 35. What will be the output of the following Python code?\n",
    "numbers = [1, 2, 3, 4]\n",
    "numbers.append([5,6,7,8])\n",
    "print(len(numbers))\n",
    "# Output: 5"
   ]
  },
  {
   "cell_type": "code",
   "execution_count": null,
   "metadata": {},
   "outputs": [],
   "source": [
    "# 36. What will be the output of the following Python code?\n",
    "x = 'xyz'\n",
    "for i in range(len(x)):\n",
    "    print(i)\n",
    "# Output: 0 1 2    "
   ]
  },
  {
   "cell_type": "code",
   "execution_count": null,
   "metadata": {},
   "outputs": [
    {
     "name": "stdout",
     "output_type": "stream",
     "text": [
      "n\n"
     ]
    }
   ],
   "source": [
    "# 37. What would be displayed in the console for the following code:\n",
    "name = 'Frankenstein'\n",
    "print(name[3])\n",
    "# Output: n"
   ]
  },
  {
   "cell_type": "code",
   "execution_count": null,
   "metadata": {},
   "outputs": [],
   "source": [
    "# 38. What would be displayed in the console for this code:\n",
    "studentGrades = {\n",
    "'Mike' : 78,\n",
    "'Sully' : 94,\n",
    "'Randall': 32,\n",
    "'Celia' : 99\n",
    "}\n",
    "\n",
    "studentGrades['Mike'] = 99\n",
    "print(studentGrades)\n",
    "# Output: {'Mike': 99, 'Sully': 94, 'Randall': 32, 'Celia': 99}"
   ]
  },
  {
   "cell_type": "code",
   "execution_count": null,
   "metadata": {},
   "outputs": [],
   "source": [
    "# 39. What would be displayed in the console for this code?\n",
    "word = 'Millenium'\n",
    "print(len(word))\n",
    "# Output: 9"
   ]
  },
  {
   "cell_type": "code",
   "execution_count": null,
   "metadata": {},
   "outputs": [],
   "source": [
    "# 40. What would be displayed in the console for this code?\n",
    "\n",
    "word1 = 'This'\n",
    "word2 = 'is'\n",
    "word3 = 'amazing!'\n",
    "\n",
    "print(word1 + word2 + word3)"
   ]
  },
  {
   "cell_type": "code",
   "execution_count": null,
   "metadata": {},
   "outputs": [],
   "source": [
    "# 41. What would be output in the console from this code?\n",
    "print(\"Hello\", end='')\n",
    "print(\" World!\")"
   ]
  },
  {
   "cell_type": "code",
   "execution_count": null,
   "metadata": {},
   "outputs": [],
   "source": [
    "# 42. What would be printed in the console for this code:\n",
    "word = 'this is weird'\n",
    "print(word[-5:])"
   ]
  },
  {
   "cell_type": "code",
   "execution_count": null,
   "metadata": {},
   "outputs": [],
   "source": [
    "# 43. What would be printed in the console for this code:\n",
    "word = 'this is weird'\n",
    "print(word[2:6:3])"
   ]
  },
  {
   "cell_type": "code",
   "execution_count": null,
   "metadata": {},
   "outputs": [],
   "source": [
    "# 44. What would be printed in the console for this code?\n",
    "lottoNumbers = [2,32,44,12,32,41]\n",
    "print(lottoNumbers[0])"
   ]
  },
  {
   "cell_type": "code",
   "execution_count": null,
   "metadata": {},
   "outputs": [],
   "source": [
    "# 45. What would be printed in the console with this code?\n",
    "\n",
    "word = 'I know'\n",
    "print(word[0:3])"
   ]
  },
  {
   "cell_type": "markdown",
   "metadata": {},
   "source": [
    "46. What would be the outcome of this code:\n",
    "`3 // 2`\n",
    "1"
   ]
  },
  {
   "cell_type": "markdown",
   "metadata": {},
   "source": [
    "47. What would be the time complexity of the binary search algorithm, when the target element is not found? `O(log n)`"
   ]
  },
  {
   "cell_type": "markdown",
   "metadata": {},
   "source": [
    "48. When determining alignment with a formatted string, this character tells the interpreter to align the characters on the left `<`"
   ]
  },
  {
   "cell_type": "markdown",
   "metadata": {},
   "source": [
    "49. When using the find method, when a substring is not found in the string being checked, the method returns **-1**."
   ]
  },
  {
   "cell_type": "code",
   "execution_count": null,
   "metadata": {},
   "outputs": [],
   "source": [
    "# 50. Which mathematical functionality does the below program solves?\n",
    "\n",
    "def fun(x, n):\n",
    "    if n == 0:\n",
    "        return 1\n",
    "    else:\n",
    "        return x * fun(x, n-1)\n",
    "\n",
    "result = fun(2, 3)\n",
    "print(result)\n",
    "# Exponential power"
   ]
  },
  {
   "cell_type": "markdown",
   "metadata": {},
   "source": [
    "51. Which of the following scenarios demonstrates O(1) time complexity? **Accessing an element at a specific index in an array.**"
   ]
  },
  {
   "cell_type": "markdown",
   "metadata": {},
   "source": [
    "52. Which of the following sorting algorithms is the fastest for sorting small arrays? Insertion Sort"
   ]
  },
  {
   "cell_type": "code",
   "execution_count": 4,
   "metadata": {},
   "outputs": [
    {
     "name": "stdout",
     "output_type": "stream",
     "text": [
      "3.141592653589793\n"
     ]
    }
   ],
   "source": [
    "# 53. Which of the following will print the pi value defined in math module?\n",
    "\n",
    "from math import pi\n",
    "print(pi)\n"
   ]
  },
  {
   "cell_type": "markdown",
   "metadata": {},
   "source": [
    "53. Which one of the following has the same precedence level? **division and multiplication**"
   ]
  },
  {
   "cell_type": "markdown",
   "metadata": {},
   "source": [
    "54. **Modular development** is the process of dividing a program into separate modules that can be developed and tested separately and integrated into a single program."
   ]
  },
  {
   "cell_type": "code",
   "execution_count": null,
   "metadata": {},
   "outputs": [],
   "source": [
    "# 55. \n",
    "sampleList = [10, 20, 30, 40]\n",
    "del sampleList[0:6]\n",
    "print(sampleList)\n",
    "# Output: []"
   ]
  },
  {
   "cell_type": "code",
   "execution_count": null,
   "metadata": {},
   "outputs": [],
   "source": [
    "# 56. What is the output of the following code?\n",
    "def printMax(a, b):\n",
    "    if a > b:\n",
    "        print(a, 'is maximum')\n",
    "    elif a == b:\n",
    "        print(a, 'is equal to', b)\n",
    "    else:\n",
    "        print(b, 'is maximum')\n",
    "\n",
    "printMax(3, 4)\n",
    "\n",
    "# Output: 4 is maximum"
   ]
  }
 ],
 "metadata": {
  "kernelspec": {
   "display_name": "Python 3",
   "language": "python",
   "name": "python3"
  },
  "language_info": {
   "codemirror_mode": {
    "name": "ipython",
    "version": 3
   },
   "file_extension": ".py",
   "mimetype": "text/x-python",
   "name": "python",
   "nbconvert_exporter": "python",
   "pygments_lexer": "ipython3",
   "version": "3.11.9"
  }
 },
 "nbformat": 4,
 "nbformat_minor": 2
}
