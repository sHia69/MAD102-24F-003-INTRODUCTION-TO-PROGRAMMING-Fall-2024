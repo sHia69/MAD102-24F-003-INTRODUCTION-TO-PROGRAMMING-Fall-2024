{
 "cells": [
  {
   "cell_type": "markdown",
   "metadata": {},
   "source": [
    "# Strings"
   ]
  },
  {
   "cell_type": "markdown",
   "metadata": {},
   "source": [
    "Strings are sequences of characters, used for storing text data. They are immitable, meaning once a string is created be modified in place."
   ]
  },
  {
   "cell_type": "markdown",
   "metadata": {},
   "source": [
    "## Basic String Operations"
   ]
  },
  {
   "cell_type": "code",
   "execution_count": 1,
   "metadata": {},
   "outputs": [
    {
     "name": "stdout",
     "output_type": "stream",
     "text": [
      "Hell\n"
     ]
    }
   ],
   "source": [
    "# Initialize a string\n",
    "string = \"Hello World!\"\n",
    "print(string[0:4])  # Outputs 'Hell'"
   ]
  },
  {
   "cell_type": "markdown",
   "metadata": {},
   "source": [
    "## Slicing and Stride"
   ]
  },
  {
   "cell_type": "code",
   "execution_count": 1,
   "metadata": {},
   "outputs": [
    {
     "name": "stdout",
     "output_type": "stream",
     "text": [
      "HelloPython!\n"
     ]
    }
   ],
   "source": [
    "string = 'Hello, World!'\n",
    "string = string[:5] + 'Python!'\n",
    "print(string)"
   ]
  },
  {
   "cell_type": "code",
   "execution_count": 3,
   "metadata": {},
   "outputs": [
    {
     "name": "stdout",
     "output_type": "stream",
     "text": [
      "Python\n",
      "PtoPormig\n",
      "gnimmargorPnohtyP\n"
     ]
    }
   ],
   "source": [
    "text = \"PythonProgramming\"\n",
    "print(text[0:6])    # Output: Python\n",
    "print(text[::2])    # Output: PtoPormig (Every 2nd character)\n",
    "print(text[::-1])   # Output: gnimmargorPnohtyP (Reversed)"
   ]
  },
  {
   "cell_type": "markdown",
   "metadata": {},
   "source": [
    "## Format Specification - Field width\n",
    "Defined as part of the string format specification"
   ]
  },
  {
   "cell_type": "code",
   "execution_count": 5,
   "metadata": {},
   "outputs": [
    {
     "name": "stdout",
     "output_type": "stream",
     "text": [
      "Student Name        Grade     \n",
      "==============================\n",
      "Malcolm Reynolds            83\n",
      "Zoe Washburne               74\n",
      "Jayne Cobb                  34\n"
     ]
    }
   ],
   "source": [
    "# Strings Examples\n",
    "print(f'{\"Student Name\":20}{\"Grade\":10}')\n",
    "print('='*30)\n",
    "print(f'{\"Malcolm Reynolds\":20}{83:10}')\n",
    "print(f'{\"Zoe Washburne\":20}{74:10}')\n",
    "print(f'{\"Jayne Cobb\":20}{34:10}')"
   ]
  },
  {
   "cell_type": "markdown",
   "metadata": {},
   "source": [
    "## Common String Methods"
   ]
  },
  {
   "cell_type": "markdown",
   "metadata": {},
   "source": [
    "- `strip()`: removes leading and trailing whitespace.\n",
    "- `replace()`: replaces occurrences of substring.\n",
    "- `find()`: returns the index of substring or -1 if not found.\n",
    "- `.rfind()`: returns the highest index of the substring (if found) within the string. If not found, it returns -1.\n",
    "- `split()`: Split a string into a list of tokens based on a separator.\n",
    "- `join()`: Join a list of strings with a specified separator.\n",
    "- `capitalize()`, `lower()`, `upper()`, `title()`, `strip()`: Modify string casing or remove extra spaces.\n"
   ]
  },
  {
   "cell_type": "code",
   "execution_count": 4,
   "metadata": {},
   "outputs": [
    {
     "name": "stdout",
     "output_type": "stream",
     "text": [
      "Alice\n",
      "I love coding!\n"
     ]
    }
   ],
   "source": [
    "name = \"  Alice  \"\n",
    "print(name.strip())  # Output: Alice\n",
    "\n",
    "sentence = \"I love Python!\"\n",
    "print(sentence.replace(\"Python\", \"coding\"))  # I love coding!"
   ]
  },
  {
   "cell_type": "markdown",
   "metadata": {},
   "source": [
    "### Useful String Methods"
   ]
  },
  {
   "cell_type": "code",
   "execution_count": 16,
   "metadata": {},
   "outputs": [],
   "source": [
    "def strip(string):\n",
    "    return string.strip()\n",
    "\n",
    "def replace(string, old, new):\n",
    "    return string.replace(old, new)\n",
    "\n",
    "def find(string, substring):\n",
    "    return string.find(substring)\n",
    "\n",
    "def split(string, separator):\n",
    "    return string.split(separator)\n",
    "\n",
    "def join(strings, separator):\n",
    "    return separator.join(strings)\n",
    "\n",
    "def capitalize(string):\n",
    "    return string.capitalize()\n",
    "\n",
    "def lower(string):\n",
    "    return string.lower()\n",
    "\n",
    "def upper(string):\n",
    "    return string.upper()\n",
    "\n",
    "def title(string):\n",
    "    return string.title()\n",
    "\n",
    "def strip_extra_spaces(string):\n",
    "    return ' '.join(string.split())"
   ]
  },
  {
   "cell_type": "markdown",
   "metadata": {},
   "source": [
    "## Comparing Strings - Methods\n",
    "- `isalnum()` - returns True if all characters are lowercase or uppercase letter or numbers 0-9\n",
    "- `isdigit` - returns True is all characters are numbers 0-9\n",
    "- `islower()` - returns True if all characters are lowercase\n",
    "- `isupper()` - if all characters are uppercase\n",
    "- `isspace()` - returns True if all characters are whitespace\n",
    "- `startswith(x)` - returns if it starts with this character\n",
    "-  `endswith(x)` - returns True if it ends with this character"
   ]
  },
  {
   "cell_type": "markdown",
   "metadata": {},
   "source": [
    "### Strings Methods (All)\n",
    "\n",
    "| Method       | Description                                                  |\n",
    "|--------------|--------------------------------------------------------------|\n",
    "| capitalize() | Converts the first character to upper case                    |\n",
    "| casefold()   | Converts string into lower case                              |\n",
    "| center()     | Returns a centered string                                    |\n",
    "| count()      | Returns the number of times a specified value occurs in a string |\n",
    "| encode()     | Returns an encoded version of the string                     |\n",
    "| endswith()   | Returns true if the string ends with the specified value      |\n",
    "| expandtabs() | Sets the tab size of the string                              |\n",
    "| find()       | Searches the string for a specified value and returns the position of where it was found |\n",
    "| format()     | Formats specified values in a string                         |\n",
    "| format_map() | Formats specified values in a string                         |\n",
    "| index()      | Searches the string for a specified value and returns the position of where it was found |\n",
    "| isalnum()    | Returns True if all characters in the string are alphanumeric |\n",
    "| isalpha()    | Returns True if all characters in the string are in the alphabet |\n",
    "| isascii()    | Returns True if all characters in the string are ascii characters |\n",
    "| isdecimal()  | Returns True if all characters in the string are decimals    |\n",
    "| isdigit()    | Returns True if all characters in the string are digits      |\n",
    "| isidentifier() | Returns True if the string is an identifier                  |\n",
    "| islower()    | Returns True if all characters in the string are lower case  |\n",
    "| isnumeric()  | Returns True if all characters in the string are numeric    |\n",
    "| isprintable() | Returns True if all characters in the string are printable  |\n",
    "| isspace()    | Returns True if all characters in the string are whitespaces |\n",
    "| istitle()    | Returns True if the string follows the rules of a title      |\n",
    "| isupper()    | Returns True if all characters in the string are upper case  |\n",
    "| join()       | Joins the elements of an iterable to the end of the string   |\n",
    "| ljust()      | Returns a left justified version of the string               |\n",
    "| lower()      | Converts a string into lower case                            |\n",
    "| lstrip()     | Returns a left trim version of the string                    |\n",
    "| maketrans()  | Returns a translation table to be used in translations       |\n",
    "| partition()  | Returns a tuple where the string is parted into three parts  |\n",
    "| replace()    | Returns a string where a specified value is replaced with a specified value |\n",
    "| rfind()      | Searches the string for a specified value and returns the last position of where it was found |\n",
    "| rindex()     | Searches the string for a specified value and returns the last position of where it was found |\n",
    "| rjust()      | Returns a right justified version of the string              |\n",
    "| rpartition() | Returns a tuple where the string is parted into three parts  |\n",
    "| rsplit()     | Splits the string at the specified separator, and returns a list |\n",
    "| rstrip()     | Returns a right trim version of the string                   |\n",
    "| split()      | Splits the string at the specified separator, and returns a list |\n",
    "| splitlines() | Splits the string at line breaks and returns a list          |\n",
    "| startswith() | Returns true if the string starts with the specified value   |\n",
    "| strip()      | Returns a trimmed version of the string                      |\n",
    "| swapcase()   | Swaps cases, lower case becomes upper case and vice versa    |\n",
    "| title()      | Converts the first character of each word to upper case      |\n",
    "| translate()  | Returns a translated string                                  |\n",
    "| upper()      | Converts a string into upper case                            |\n",
    "| zfill()      | Fills the string with a specified number of 0 values at the beginning |"
   ]
  },
  {
   "cell_type": "markdown",
   "metadata": {},
   "source": [
    "## Escape Characters"
   ]
  },
  {
   "cell_type": "code",
   "execution_count": 18,
   "metadata": {},
   "outputs": [
    {
     "name": "stdout",
     "output_type": "stream",
     "text": [
      "Single Quote: '\n",
      "Backslash: \\\n",
      "New Line:\n",
      "Hello\n",
      "Helloage Return:\n",
      "Tab:\tHello\n",
      "BackspaceHello\n",
      "Form Feed:\fHello\n",
      "Octal Value:\n",
      "Hello\n",
      "Hex Value:Hello\n"
     ]
    }
   ],
   "source": [
    "print('Single Quote: \\'')\n",
    "print('Backslash: \\\\')\n",
    "print('New Line:\\nHello')\n",
    "print('Carriage Return:\\rHello')\n",
    "print('Tab:\\tHello')\n",
    "print('Backspace:\\bHello')\n",
    "print('Form Feed:\\fHello')\n",
    "print('Octal Value:\\012Hello')\n",
    "print('Hex Value:\\x48ello')"
   ]
  },
  {
   "cell_type": "code",
   "execution_count": 20,
   "metadata": {},
   "outputs": [
    {
     "name": "stdout",
     "output_type": "stream",
     "text": [
      "come\n"
     ]
    }
   ],
   "source": [
    "x = 'Welcome'\n",
    "print(x[3:])"
   ]
  }
 ],
 "metadata": {
  "kernelspec": {
   "display_name": "Python 3",
   "language": "python",
   "name": "python3"
  },
  "language_info": {
   "codemirror_mode": {
    "name": "ipython",
    "version": 3
   },
   "file_extension": ".py",
   "mimetype": "text/x-python",
   "name": "python",
   "nbconvert_exporter": "python",
   "pygments_lexer": "ipython3",
   "version": "3.12.5"
  }
 },
 "nbformat": 4,
 "nbformat_minor": 2
}
