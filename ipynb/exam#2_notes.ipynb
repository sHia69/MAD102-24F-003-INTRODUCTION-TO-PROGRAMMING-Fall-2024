{
 "cells": [
  {
   "cell_type": "markdown",
   "metadata": {},
   "source": [
    "# Exam #2 Notes"
   ]
  },
  {
   "cell_type": "markdown",
   "metadata": {},
   "source": [
    "## Functions"
   ]
  },
  {
   "cell_type": "code",
   "execution_count": null,
   "metadata": {},
   "outputs": [
    {
     "name": "stdout",
     "output_type": "stream",
     "text": [
      "8\n"
     ]
    }
   ],
   "source": [
    "def add(a, b):\n",
    "    return a + b\n",
    "\n",
    "result = add(5, 3)\n",
    "print(result) # Output: 8"
   ]
  },
  {
   "cell_type": "markdown",
   "metadata": {},
   "source": [
    "## Strings"
   ]
  },
  {
   "cell_type": "code",
   "execution_count": null,
   "metadata": {},
   "outputs": [
    {
     "data": {
      "text/plain": [
       "'Name: Alice, Age: 30'"
      ]
     },
     "execution_count": 16,
     "metadata": {},
     "output_type": "execute_result"
    }
   ],
   "source": [
    "# Creating a string\n",
    "s = \"Hello, World!\"\n",
    "\n",
    "# String methods\n",
    "s.lower()          # 'hello, world!'\n",
    "s.upper()          # 'HELLO, WORLD!'\n",
    "s.split(\", \")      # ['Hello', 'World!']\n",
    "s.replace(\"World\", \"Python\")  # 'Hello, Python!'\n",
    "s.strip()          # 'Hello, World!'\n",
    "s.join(['Hello', 'Python!'])  # 'HelloHello, World!Python!'\n",
    "s.find(\"World\")    # 7\n",
    "s.rfind(\"o\")       # 8\n",
    "# String formatting\n",
    "name = \"Alice\"\n",
    "age = 30\n",
    "f\"Name: {name}, Age: {age}\"  # 'Name: Alice, Age: 30'"
   ]
  },
  {
   "cell_type": "markdown",
   "metadata": {},
   "source": [
    "## Lists"
   ]
  },
  {
   "cell_type": "code",
   "execution_count": null,
   "metadata": {},
   "outputs": [],
   "source": [
    "# Creating a list\n",
    "lst = [1, 2, 3, 4, 5]\n",
    "\n",
    "# List methods\n",
    "lst.append(6)      # [1, 2, 3, 4, 5, 6]\n",
    "lst.remove(3)      # [1, 2, 4, 5, 6]\n",
    "lst.pop()          # [1, 2, 4, 5]\n",
    "lst.sort()         # [1, 2, 4, 5]\n",
    "lst.reverse()      # [5, 4, 2, 1]\n",
    "lst.extend([7, 8]) # [5, 4, 2, 1, 7, 8]\n",
    "\n",
    "# List slicing\n",
    "lst[1:3]           # [4, 2]\n",
    "lst[2:]            # [2, 1, 7, 8]\n",
    "lst[:3]            # [5, 4, 2]\n",
    "lst[-1]            # 8\n",
    "\n",
    "# List comprehension\n",
    "squares = [x * x for x in range(6)]  # [0, 1, 4, 9, 16, 25]"
   ]
  },
  {
   "cell_type": "code",
   "execution_count": null,
   "metadata": {},
   "outputs": [
    {
     "name": "stdout",
     "output_type": "stream",
     "text": [
      "{'rajnish': 9, 'ravi': 10, 'sanjeev': 15}\n"
     ]
    }
   ],
   "source": [
    "d = {'ravi': 10, 'rajnish': 9, 'sanjeev': 15}\n",
    "\n",
    "myKeys = list(d.keys())\n",
    "myKeys.sort() # Sorting the keys\n",
    "\n",
    "# Sorted Dictionary\n",
    "sd = {i: d[i] for i in myKeys}\n",
    "print(sd)"
   ]
  },
  {
   "cell_type": "markdown",
   "metadata": {},
   "source": [
    "## Dictionaries"
   ]
  },
  {
   "cell_type": "code",
   "execution_count": null,
   "metadata": {},
   "outputs": [],
   "source": [
    "# Creating a dictionary\n",
    "d = {\"k1\": \"v1\", \"k2\": \"v2\"}\n",
    "\n",
    "# Dictionary methods\n",
    "d[\"k3\"] = \"v3\"        # {'k1': 'v1', 'k2': 'v2', 'k3': 'v3'}\n",
    "d.get(\"k1\")           # 'v1'\n",
    "d.keys()              # dict_keys(['k1', 'k2', 'k3'])\n",
    "d.values()            # dict_values(['v1', 'v2', 'v3'])\n",
    "d.items()             # dict_items([('k1', 'v1'), ('k2', 'v2'), ('k3', 'v3')]\n",
    "d.pop(\"k1\")           # 'v1', {'k2': 'v2', 'k3': 'v3'}\n",
    "\n",
    "# Dictionary comprehension\n",
    "squares = {x: x * x for x in range(6)}  # {0: 0, 1: 1, 2: 4, 3: 9, 4: 16, 5: 25}"
   ]
  },
  {
   "cell_type": "markdown",
   "metadata": {},
   "source": [
    "## Class"
   ]
  },
  {
   "cell_type": "code",
   "execution_count": 24,
   "metadata": {},
   "outputs": [
    {
     "name": "stdout",
     "output_type": "stream",
     "text": [
      "Rex says Woof!\n",
      "None\n"
     ]
    }
   ],
   "source": [
    "class Dog:\n",
    "    def __init__(self, name):\n",
    "        self.name = name\n",
    "    def bark(self):\n",
    "        print(f\"{self.name} says Woof!\")\n",
    "print(Dog(\"Rex\").bark())  # Output: Rex says Woof!        "
   ]
  },
  {
   "cell_type": "markdown",
   "metadata": {},
   "source": [
    "## Programming Basics"
   ]
  },
  {
   "cell_type": "code",
   "execution_count": null,
   "metadata": {},
   "outputs": [],
   "source": [
    "# Variables\n",
    "x = 10\n",
    "y = 20.5\n",
    "name = \"Alice\"\n",
    "\n",
    "# Comments\n",
    "# This is a single-line comment\n",
    "\"\"\"\n",
    "This is a\n",
    "multi-line comment\n",
    "\"\"\"\n",
    "\n",
    "# Printing\n",
    "print(\"Hello, World!\")  # Hello, World!"
   ]
  },
  {
   "cell_type": "markdown",
   "metadata": {},
   "source": [
    "## Data Types"
   ]
  },
  {
   "cell_type": "code",
   "execution_count": null,
   "metadata": {},
   "outputs": [],
   "source": [
    "# Basic data types\n",
    "integer = 10\n",
    "floating_point = 10.5\n",
    "string = \"Hello\"\n",
    "boolean = True\n",
    "none_type = None\n",
    "\n",
    "# Type checking\n",
    "type(integer)        # <class 'int'>\n",
    "type(floating_point) # <class 'float'>\n",
    "type(string)         # <class 'str'>\n",
    "type(boolean)        # <class 'bool'>\n",
    "type(none_type)      # <class 'NoneType'>"
   ]
  },
  {
   "cell_type": "markdown",
   "metadata": {},
   "source": [
    "## Loops"
   ]
  },
  {
   "cell_type": "code",
   "execution_count": 26,
   "metadata": {},
   "outputs": [
    {
     "name": "stdout",
     "output_type": "stream",
     "text": [
      "For loop\n",
      "0\n",
      "1\n",
      "2\n",
      "3\n",
      "4\n",
      "While loop\n",
      "0\n",
      "1\n",
      "2\n",
      "3\n",
      "4\n",
      "Nested loops\n",
      "i=0, j=0\n",
      "i=0, j=1\n",
      "i=1, j=0\n",
      "i=1, j=1\n",
      "i=2, j=0\n",
      "i=2, j=1\n",
      "enumerate() function\n",
      "0 5\n",
      "1 4\n",
      "2 2\n",
      "3 1\n",
      "4 7\n",
      "5 8\n"
     ]
    }
   ],
   "source": [
    "# For loop\n",
    "print(\"For loop\")\n",
    "for i in range(5):\n",
    "    print(i)  # 0 1 2 3 4\n",
    "\n",
    "# While loop\n",
    "print(\"While loop\")\n",
    "count = 0\n",
    "while count < 5:\n",
    "    print(count)\n",
    "    count += 1  # 0 1 2 3 4\n",
    "\n",
    "# Nested loops\n",
    "print(\"Nested loops\")\n",
    "for i in range(3):\n",
    "    for j in range(2):\n",
    "        print(f\"i={i}, j={j}\") #\n",
    "        \n",
    "# The enumerate() function adds a counter as the key of the enumerate object.  \n",
    "print(\"enumerate() function\")      \n",
    "for i, j in enumerate(lst):\n",
    "    print(i, j)         "
   ]
  },
  {
   "cell_type": "markdown",
   "metadata": {},
   "source": [
    "## Decision Making"
   ]
  },
  {
   "cell_type": "code",
   "execution_count": 27,
   "metadata": {},
   "outputs": [
    {
     "name": "stdout",
     "output_type": "stream",
     "text": [
      "Positive\n"
     ]
    }
   ],
   "source": [
    "# If-elif-else\n",
    "x = 10\n",
    "if x < 0:\n",
    "    print(\"Negative\")\n",
    "elif x == 0:\n",
    "    print(\"Zero\")\n",
    "else:\n",
    "    print(\"Positive\")  # Positive\n",
    "\n",
    "# Ternary operator\n",
    "result = \"Positive\" if x > 0 else \"Non-positive\""
   ]
  },
  {
   "cell_type": "markdown",
   "metadata": {},
   "source": [
    "### Class Exerices 1:"
   ]
  },
  {
   "cell_type": "code",
   "execution_count": null,
   "metadata": {},
   "outputs": [],
   "source": [
    "class Book:\n",
    "    def __init__(self, title, author):\n",
    "        self.title = title\n",
    "        self.author = author\n",
    "    \n",
    "    def print_details(self):\n",
    "        print(f\"Book title: {self.title}, Author: {self.author}\")\n",
    "\n",
    "book1 = Book(\"1984\", \"George Orwell\")\n",
    "\n",
    "book1.print_details()\n",
    "\n",
    "books = []\n",
    "\n",
    "while True:\n",
    "    title = input('Enter Book Title or type \"q\" to exit: ')\n",
    "    if title == 'q':\n",
    "        print(\"Goodbye!\")\n",
    "        break\n",
    "    author = input('Enter Book Author: ')\n",
    "    books.append(Book(title, author))\n",
    "    \n",
    "    for book in books:\n",
    "        book.print_details()\n",
    "  "
   ]
  },
  {
   "cell_type": "markdown",
   "metadata": {},
   "source": [
    "### Class Exerice 2:"
   ]
  },
  {
   "cell_type": "code",
   "execution_count": null,
   "metadata": {},
   "outputs": [],
   "source": [
    "class BankAccount:\n",
    "    def __init__(self, account_number, account_owner, initial_balance=0):\n",
    "        self.account_number = account_number\n",
    "        self.account_owner = account_owner\n",
    "        self.intial_balance = initial_balance\n",
    "     \n",
    "    def deposit(self, amount):\n",
    "        if amount > 0:\n",
    "            self.intial_balance += amount\n",
    "            print(f\"Hooray! You deposited ${amount}. Your new balance is ${self.intial_balance}.\")\n",
    "        else:\n",
    "            print(f\"Sorry, you can't deposit ${amount}. Please enter a positive amount.\")\n",
    "        return self.intial_balance\n",
    "    \n",
    "    def withdraw(self, amount):\n",
    "        if amount > 0:\n",
    "            if amount <= self.intial_balance:\n",
    "                self.intial_balance -= amount\n",
    "                print(f\"Success! You withdrew ${amount}. Your new balance is ${self.intial_balance}.\")\n",
    "            else:\n",
    "                print(f\"Sorry, you can't withdraw ${amount}. Your balance is only ${self.intial_balance}.\")\n",
    "        else:\n",
    "            print(f\"Sorry, you can't withdraw ${amount}. Please enter a positive amount.\")\n",
    "        return \n",
    "    \n",
    "    def display_balance(self):\n",
    "        print(f\"Account Number: {self.account_number}\\nAccount Owner: {self.account_owner}\\nBalance: ${self.intial_balance}\")\n",
    "        return\n",
    "\n",
    "def main():\n",
    "    account_number = input(\"Enter your account number: \")\n",
    "    account_owner = input(\"Enter your name: \")\n",
    "    initial_balance = float(input(\"Enter your initial balance: \"))\n",
    "    account = BankAccount(account_number, account_owner, initial_balance)\n",
    "    \n",
    "    while True:\n",
    "        print(\"\\nWhat would you like to do?\")\n",
    "        print(\"1. Deposit\")\n",
    "        print(\"2. Withdraw\")\n",
    "        print(\"3. Display Balance\")\n",
    "        print(\"4. Exit\")\n",
    "        choice = input(\"Enter your choice: \")\n",
    "        \n",
    "        if choice == '1':\n",
    "            amount = float(input(\"Enter the amount you want to deposit: \"))\n",
    "            account.deposit(amount)\n",
    "        elif choice == '2':\n",
    "            amount = float(input(\"Enter the amount you want to withdraw: \"))\n",
    "            account.withdraw(amount)\n",
    "        elif choice == '3':\n",
    "            account.display_balance()\n",
    "        elif choice == '4':\n",
    "            print(\"Thank you for using the bank app. Goodbye!\")\n",
    "            break\n",
    "        else:\n",
    "            print(\"Invalid choice. Please try again.\")\n",
    "            \n",
    "if __name__ == \"__main__\":\n",
    "    main()\n",
    "    "
   ]
  }
 ],
 "metadata": {
  "kernelspec": {
   "display_name": ".venv",
   "language": "python",
   "name": "python3"
  },
  "language_info": {
   "codemirror_mode": {
    "name": "ipython",
    "version": 3
   },
   "file_extension": ".py",
   "mimetype": "text/x-python",
   "name": "python",
   "nbconvert_exporter": "python",
   "pygments_lexer": "ipython3",
   "version": "3.12.3"
  }
 },
 "nbformat": 4,
 "nbformat_minor": 2
}
